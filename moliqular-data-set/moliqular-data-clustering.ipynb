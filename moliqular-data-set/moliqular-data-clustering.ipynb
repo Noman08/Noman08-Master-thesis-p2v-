{
 "cells": [
  {
   "cell_type": "code",
   "execution_count": 24,
   "id": "1d90a248",
   "metadata": {},
   "outputs": [],
   "source": [
    "import pandas as pd\n",
    "import numpy as np\n",
    "\n",
    "\n"
   ]
  },
  {
   "cell_type": "code",
   "execution_count": 25,
   "id": "ecafbdae",
   "metadata": {},
   "outputs": [
    {
     "data": {
      "text/plain": [
       "72378"
      ]
     },
     "execution_count": 25,
     "metadata": {},
     "output_type": "execute_result"
    }
   ],
   "source": [
    "Y = pd.read_csv('covidmancandidates.csv', header = None)\n",
    "Y[0][0]"
   ]
  },
  {
   "cell_type": "code",
   "execution_count": 26,
   "id": "98f7b6c8",
   "metadata": {},
   "outputs": [],
   "source": [
    "df = pd.read_csv('cov2vect.csv', header = None)\n",
    "X = df"
   ]
  },
  {
   "cell_type": "code",
   "execution_count": 27,
   "id": "4c4d9ffa",
   "metadata": {},
   "outputs": [],
   "source": [
    "import numpy as np\n",
    "\n",
    "from matplotlib import pyplot as plt\n",
    "from scipy.cluster.hierarchy import dendrogram\n",
    "from sklearn.cluster import AgglomerativeClustering\n",
    "\n",
    "\n",
    "def plot_dendrogram(model, **kwargs):\n",
    "    # Create linkage matrix and then plot the dendrogram\n",
    "\n",
    "    # create the counts of samples under each node\n",
    "    counts = np.zeros(model.children_.shape[0])\n",
    "    n_samples = len(model.labels_)\n",
    "    for i, merge in enumerate(model.children_):\n",
    "        current_count = 0\n",
    "        for child_idx in merge:\n",
    "            if child_idx < n_samples:\n",
    "                current_count += 1  # leaf node\n",
    "            else:\n",
    "                current_count += counts[child_idx - n_samples]\n",
    "        counts[i] = current_count\n",
    "\n",
    "    linkage_matrix = np.column_stack(\n",
    "        [model.children_, model.distances_, counts]\n",
    "    ).astype(float)\n",
    "\n",
    "    # Plot the corresponding dendrogram\n",
    "    dendrogram(linkage_matrix, **kwargs)\n",
    "\n",
    "\n",
    "\n",
    "\n",
    "# setting distance_threshold=0 ensures we compute the full tree.\n",
    "model1 = AgglomerativeClustering(distance_threshold=0, n_clusters=None)\n",
    "\n",
    "model1 = model1.fit(X)\n"
   ]
  },
  {
   "cell_type": "code",
   "execution_count": 28,
   "id": "858bed77",
   "metadata": {},
   "outputs": [
    {
     "data": {
      "image/png": "[encoded data removed]",
      "text/plain": [
       "<Figure size 432x288 with 1 Axes>"
      ]
     },
     "metadata": {
      "needs_background": "light"
     },
     "output_type": "display_data"
    }
   ],
   "source": [
    "plt.title(\"Hierarchical Clustering Dendrogram\")\n",
    "# plot the top three levels of the dendrogram\n",
    "plot_dendrogram(model1, truncate_mode=\"level\", p=5)\n",
    "plt.xlabel(\"Number of points in node (or index of point if no parenthesis).\")\n",
    "plt.show()"
   ]
  },
  {
   "cell_type": "code",
   "execution_count": 29,
   "id": "da8c742b",
   "metadata": {},
   "outputs": [],
   "source": [
    "# setting distance_threshold=0 ensures we compute the full tree.\n",
    "model1 = AgglomerativeClustering(distance_threshold=150, n_clusters=None)\n",
    "\n",
    "model1 = model1.fit(X)"
   ]
  },
  {
   "cell_type": "code",
   "execution_count": 30,
   "id": "5cc0ee72",
   "metadata": {},
   "outputs": [
    {
     "data": {
      "text/plain": [
       "10"
      ]
     },
     "execution_count": 30,
     "metadata": {},
     "output_type": "execute_result"
    }
   ],
   "source": [
    "labels = model1.labels_.tolist()\n",
    "nocluster = set(labels)\n",
    "totalcluster = len(nocluster)\n",
    "totalcluster"
   ]
  },
  {
   "cell_type": "code",
   "execution_count": 31,
   "id": "234fd0ef",
   "metadata": {},
   "outputs": [],
   "source": [
    "cluster_dict = {}\n",
    "\n",
    "i = 0\n",
    "for i in range(len(labels)):\n",
    "    if labels[i] not in cluster_dict.keys():\n",
    "         cluster_dict[labels[i]] = [i]\n",
    "    else:\n",
    "          cluster_dict[labels[i]].append(i)\n",
    "    i+=1"
   ]
  },
  {
   "cell_type": "code",
   "execution_count": 73,
   "id": "7d356018",
   "metadata": {},
   "outputs": [
    {
     "name": "stdout",
     "output_type": "stream",
     "text": [
      "6\n",
      "14\n",
      "47\n",
      "15\n",
      "6\n",
      "6\n",
      "3\n",
      "1\n",
      "1\n",
      "1\n"
     ]
    }
   ],
   "source": [
    "for i in range(totalcluster):\n",
    "    print(len(cluster_dict[i]))"
   ]
  },
  {
   "cell_type": "code",
   "execution_count": 74,
   "id": "0abaa3ef",
   "metadata": {},
   "outputs": [
    {
     "name": "stdout",
     "output_type": "stream",
     "text": [
      "[7, 8, 9]\n"
     ]
    }
   ],
   "source": [
    "outlier_cluster_list = []\n",
    "for i in range(totalcluster):\n",
    "    if len(cluster_dict[i]) == 1:\n",
    "        outlier_cluster_list.append(i)\n",
    "    \n",
    "print(outlier_cluster_list)"
   ]
  },
  {
   "cell_type": "code",
   "execution_count": 75,
   "id": "258c43f2",
   "metadata": {},
   "outputs": [
    {
     "data": {
      "text/plain": [
       "[13]"
      ]
     },
     "execution_count": 75,
     "metadata": {},
     "output_type": "execute_result"
    }
   ],
   "source": [
    "cluster_dict[outlier_cluster_list[2]]"
   ]
  },
  {
   "cell_type": "code",
   "execution_count": 76,
   "id": "d7a87af7",
   "metadata": {},
   "outputs": [
    {
     "data": {
      "text/plain": [
       "[5, 16, 20, 22, 29, 44, 48, 59, 70, 73, 75, 76, 85, 91, 98]"
      ]
     },
     "execution_count": 76,
     "metadata": {},
     "output_type": "execute_result"
    }
   ],
   "source": [
    "cluster_dict[3]"
   ]
  },
  {
   "cell_type": "code",
   "execution_count": 77,
   "id": "27e7e5fc",
   "metadata": {},
   "outputs": [
    {
     "data": {
      "text/html": [
       "<div>\n",
       "<style scoped>\n",
       "    .dataframe tbody tr th:only-of-type {\n",
       "        vertical-align: middle;\n",
       "    }\n",
       "\n",
       "    .dataframe tbody tr th {\n",
       "        vertical-align: top;\n",
       "    }\n",
       "\n",
       "    .dataframe thead th {\n",
       "        text-align: right;\n",
       "    }\n",
       "</style>\n",
       "<table border=\"1\" class=\"dataframe\">\n",
       "  <thead>\n",
       "    <tr style=\"text-align: right;\">\n",
       "      <th></th>\n",
       "      <th>0</th>\n",
       "      <th>1</th>\n",
       "      <th>2</th>\n",
       "      <th>3</th>\n",
       "      <th>4</th>\n",
       "      <th>5</th>\n",
       "      <th>6</th>\n",
       "      <th>7</th>\n",
       "      <th>8</th>\n",
       "      <th>9</th>\n",
       "      <th>...</th>\n",
       "      <th>290</th>\n",
       "      <th>291</th>\n",
       "      <th>292</th>\n",
       "      <th>293</th>\n",
       "      <th>294</th>\n",
       "      <th>295</th>\n",
       "      <th>296</th>\n",
       "      <th>297</th>\n",
       "      <th>298</th>\n",
       "      <th>299</th>\n",
       "    </tr>\n",
       "  </thead>\n",
       "  <tbody>\n",
       "    <tr>\n",
       "      <th>99</th>\n",
       "      <td>-7.626022</td>\n",
       "      <td>-4.128572</td>\n",
       "      <td>1.131209</td>\n",
       "      <td>-7.45321</td>\n",
       "      <td>17.592012</td>\n",
       "      <td>-1.980523</td>\n",
       "      <td>-25.096424</td>\n",
       "      <td>-6.670262</td>\n",
       "      <td>22.678345</td>\n",
       "      <td>-7.230431</td>\n",
       "      <td>...</td>\n",
       "      <td>1.87808</td>\n",
       "      <td>14.324747</td>\n",
       "      <td>24.905655</td>\n",
       "      <td>13.283847</td>\n",
       "      <td>-16.328968</td>\n",
       "      <td>-3.612324</td>\n",
       "      <td>0.018755</td>\n",
       "      <td>-24.570198</td>\n",
       "      <td>-25.178297</td>\n",
       "      <td>-7.857099</td>\n",
       "    </tr>\n",
       "  </tbody>\n",
       "</table>\n",
       "<p>1 rows × 300 columns</p>\n",
       "</div>"
      ],
      "text/plain": [
       "         0         1         2        3          4         5          6    \\\n",
       "99 -7.626022 -4.128572  1.131209 -7.45321  17.592012 -1.980523 -25.096424   \n",
       "\n",
       "         7          8         9    ...      290        291        292  \\\n",
       "99 -6.670262  22.678345 -7.230431  ...  1.87808  14.324747  24.905655   \n",
       "\n",
       "          293        294       295       296        297        298       299  \n",
       "99  13.283847 -16.328968 -3.612324  0.018755 -24.570198 -25.178297 -7.857099  \n",
       "\n",
       "[1 rows x 300 columns]"
      ]
     },
     "execution_count": 77,
     "metadata": {},
     "output_type": "execute_result"
    }
   ],
   "source": [
    "X.iloc[cluster_dict[outlier_cluster_list[1]]]"
   ]
  },
  {
   "cell_type": "code",
   "execution_count": 78,
   "id": "218a69eb",
   "metadata": {},
   "outputs": [
    {
     "data": {
      "text/html": [
       "<div>\n",
       "<style scoped>\n",
       "    .dataframe tbody tr th:only-of-type {\n",
       "        vertical-align: middle;\n",
       "    }\n",
       "\n",
       "    .dataframe tbody tr th {\n",
       "        vertical-align: top;\n",
       "    }\n",
       "\n",
       "    .dataframe thead th {\n",
       "        text-align: right;\n",
       "    }\n",
       "</style>\n",
       "<table border=\"1\" class=\"dataframe\">\n",
       "  <thead>\n",
       "    <tr style=\"text-align: right;\">\n",
       "      <th></th>\n",
       "      <th>0</th>\n",
       "      <th>1</th>\n",
       "      <th>2</th>\n",
       "      <th>3</th>\n",
       "      <th>4</th>\n",
       "      <th>5</th>\n",
       "      <th>6</th>\n",
       "      <th>7</th>\n",
       "      <th>8</th>\n",
       "      <th>9</th>\n",
       "      <th>...</th>\n",
       "      <th>290</th>\n",
       "      <th>291</th>\n",
       "      <th>292</th>\n",
       "      <th>293</th>\n",
       "      <th>294</th>\n",
       "      <th>295</th>\n",
       "      <th>296</th>\n",
       "      <th>297</th>\n",
       "      <th>298</th>\n",
       "      <th>299</th>\n",
       "    </tr>\n",
       "  </thead>\n",
       "  <tbody>\n",
       "    <tr>\n",
       "      <th>36</th>\n",
       "      <td>-2.842821</td>\n",
       "      <td>-7.283148</td>\n",
       "      <td>-8.195484</td>\n",
       "      <td>-3.361817</td>\n",
       "      <td>-0.170180</td>\n",
       "      <td>-14.048708</td>\n",
       "      <td>-20.615744</td>\n",
       "      <td>5.386586</td>\n",
       "      <td>4.971811</td>\n",
       "      <td>-9.965291</td>\n",
       "      <td>...</td>\n",
       "      <td>-8.207074</td>\n",
       "      <td>22.317694</td>\n",
       "      <td>10.801508</td>\n",
       "      <td>-1.180091</td>\n",
       "      <td>-24.374506</td>\n",
       "      <td>-22.304781</td>\n",
       "      <td>-16.400099</td>\n",
       "      <td>-14.952602</td>\n",
       "      <td>-23.439632</td>\n",
       "      <td>6.850525</td>\n",
       "    </tr>\n",
       "    <tr>\n",
       "      <th>49</th>\n",
       "      <td>-1.510650</td>\n",
       "      <td>-11.853647</td>\n",
       "      <td>-7.792691</td>\n",
       "      <td>-0.410092</td>\n",
       "      <td>1.146943</td>\n",
       "      <td>-13.605926</td>\n",
       "      <td>-15.206273</td>\n",
       "      <td>6.973811</td>\n",
       "      <td>-5.818600</td>\n",
       "      <td>-3.256252</td>\n",
       "      <td>...</td>\n",
       "      <td>-3.170748</td>\n",
       "      <td>23.321602</td>\n",
       "      <td>1.748697</td>\n",
       "      <td>-0.668680</td>\n",
       "      <td>-22.904808</td>\n",
       "      <td>-21.359655</td>\n",
       "      <td>-21.082687</td>\n",
       "      <td>-4.592968</td>\n",
       "      <td>-19.096619</td>\n",
       "      <td>1.815147</td>\n",
       "    </tr>\n",
       "    <tr>\n",
       "      <th>52</th>\n",
       "      <td>-3.133712</td>\n",
       "      <td>-9.604454</td>\n",
       "      <td>-5.200057</td>\n",
       "      <td>-2.700806</td>\n",
       "      <td>-3.944968</td>\n",
       "      <td>-13.415811</td>\n",
       "      <td>-18.491312</td>\n",
       "      <td>5.365893</td>\n",
       "      <td>2.323647</td>\n",
       "      <td>-10.838997</td>\n",
       "      <td>...</td>\n",
       "      <td>-7.698863</td>\n",
       "      <td>22.366323</td>\n",
       "      <td>4.479616</td>\n",
       "      <td>-4.316914</td>\n",
       "      <td>-21.128296</td>\n",
       "      <td>-21.875727</td>\n",
       "      <td>-18.296686</td>\n",
       "      <td>-13.043437</td>\n",
       "      <td>-20.476442</td>\n",
       "      <td>5.980033</td>\n",
       "    </tr>\n",
       "    <tr>\n",
       "      <th>67</th>\n",
       "      <td>2.846437</td>\n",
       "      <td>-16.234081</td>\n",
       "      <td>-12.217618</td>\n",
       "      <td>7.563805</td>\n",
       "      <td>0.290252</td>\n",
       "      <td>-20.288746</td>\n",
       "      <td>-22.412457</td>\n",
       "      <td>7.080382</td>\n",
       "      <td>4.257922</td>\n",
       "      <td>-9.163875</td>\n",
       "      <td>...</td>\n",
       "      <td>-2.827033</td>\n",
       "      <td>35.477215</td>\n",
       "      <td>3.276667</td>\n",
       "      <td>-6.103508</td>\n",
       "      <td>-32.770428</td>\n",
       "      <td>-31.553724</td>\n",
       "      <td>-25.469190</td>\n",
       "      <td>-9.113732</td>\n",
       "      <td>-34.077553</td>\n",
       "      <td>3.121256</td>\n",
       "    </tr>\n",
       "    <tr>\n",
       "      <th>80</th>\n",
       "      <td>3.039348</td>\n",
       "      <td>-18.442986</td>\n",
       "      <td>-14.053578</td>\n",
       "      <td>2.643454</td>\n",
       "      <td>-3.575144</td>\n",
       "      <td>-23.987926</td>\n",
       "      <td>-21.624962</td>\n",
       "      <td>7.949693</td>\n",
       "      <td>-3.601803</td>\n",
       "      <td>-7.911142</td>\n",
       "      <td>...</td>\n",
       "      <td>-5.174691</td>\n",
       "      <td>37.570328</td>\n",
       "      <td>2.690826</td>\n",
       "      <td>-4.951643</td>\n",
       "      <td>-34.910930</td>\n",
       "      <td>-33.956635</td>\n",
       "      <td>-28.261133</td>\n",
       "      <td>-9.394019</td>\n",
       "      <td>-33.380775</td>\n",
       "      <td>3.589008</td>\n",
       "    </tr>\n",
       "    <tr>\n",
       "      <th>93</th>\n",
       "      <td>1.085337</td>\n",
       "      <td>-11.033558</td>\n",
       "      <td>-7.929191</td>\n",
       "      <td>0.874161</td>\n",
       "      <td>-1.540242</td>\n",
       "      <td>-19.029455</td>\n",
       "      <td>-15.999878</td>\n",
       "      <td>5.124501</td>\n",
       "      <td>1.767690</td>\n",
       "      <td>-8.618482</td>\n",
       "      <td>...</td>\n",
       "      <td>-4.806884</td>\n",
       "      <td>31.166088</td>\n",
       "      <td>3.330698</td>\n",
       "      <td>-2.057195</td>\n",
       "      <td>-28.552628</td>\n",
       "      <td>-29.585005</td>\n",
       "      <td>-23.463331</td>\n",
       "      <td>-7.762007</td>\n",
       "      <td>-32.242500</td>\n",
       "      <td>6.155550</td>\n",
       "    </tr>\n",
       "  </tbody>\n",
       "</table>\n",
       "<p>6 rows × 300 columns</p>\n",
       "</div>"
      ],
      "text/plain": [
       "         0          1          2         3         4          5          6    \\\n",
       "36 -2.842821  -7.283148  -8.195484 -3.361817 -0.170180 -14.048708 -20.615744   \n",
       "49 -1.510650 -11.853647  -7.792691 -0.410092  1.146943 -13.605926 -15.206273   \n",
       "52 -3.133712  -9.604454  -5.200057 -2.700806 -3.944968 -13.415811 -18.491312   \n",
       "67  2.846437 -16.234081 -12.217618  7.563805  0.290252 -20.288746 -22.412457   \n",
       "80  3.039348 -18.442986 -14.053578  2.643454 -3.575144 -23.987926 -21.624962   \n",
       "93  1.085337 -11.033558  -7.929191  0.874161 -1.540242 -19.029455 -15.999878   \n",
       "\n",
       "         7         8          9    ...       290        291        292  \\\n",
       "36  5.386586  4.971811  -9.965291  ... -8.207074  22.317694  10.801508   \n",
       "49  6.973811 -5.818600  -3.256252  ... -3.170748  23.321602   1.748697   \n",
       "52  5.365893  2.323647 -10.838997  ... -7.698863  22.366323   4.479616   \n",
       "67  7.080382  4.257922  -9.163875  ... -2.827033  35.477215   3.276667   \n",
       "80  7.949693 -3.601803  -7.911142  ... -5.174691  37.570328   2.690826   \n",
       "93  5.124501  1.767690  -8.618482  ... -4.806884  31.166088   3.330698   \n",
       "\n",
       "         293        294        295        296        297        298       299  \n",
       "36 -1.180091 -24.374506 -22.304781 -16.400099 -14.952602 -23.439632  6.850525  \n",
       "49 -0.668680 -22.904808 -21.359655 -21.082687  -4.592968 -19.096619  1.815147  \n",
       "52 -4.316914 -21.128296 -21.875727 -18.296686 -13.043437 -20.476442  5.980033  \n",
       "67 -6.103508 -32.770428 -31.553724 -25.469190  -9.113732 -34.077553  3.121256  \n",
       "80 -4.951643 -34.910930 -33.956635 -28.261133  -9.394019 -33.380775  3.589008  \n",
       "93 -2.057195 -28.552628 -29.585005 -23.463331  -7.762007 -32.242500  6.155550  \n",
       "\n",
       "[6 rows x 300 columns]"
      ]
     },
     "execution_count": 78,
     "metadata": {},
     "output_type": "execute_result"
    }
   ],
   "source": [
    "X.iloc[cluster_dict[0]]"
   ]
  },
  {
   "cell_type": "code",
   "execution_count": 79,
   "id": "504de4a9",
   "metadata": {},
   "outputs": [
    {
     "data": {
      "text/plain": [
       "(10, 300)"
      ]
     },
     "execution_count": 79,
     "metadata": {},
     "output_type": "execute_result"
    }
   ],
   "source": [
    "cluster_mean = np.zeros((totalcluster, X.iloc[1].size))\n",
    "cluster_mean.shape"
   ]
  },
  {
   "cell_type": "code",
   "execution_count": 80,
   "id": "f8e260a6",
   "metadata": {},
   "outputs": [],
   "source": [
    "cluster_mean = np.zeros((totalcluster, X.iloc[1].size))\n",
    "\n",
    "for i in range(totalcluster):\n",
    "    cluster_mean[i] = np.mean(X.iloc[cluster_dict[i]], axis=0)\n",
    "    \n"
   ]
  },
  {
   "cell_type": "code",
   "execution_count": 81,
   "id": "c577f7b2",
   "metadata": {},
   "outputs": [
    {
     "data": {
      "text/plain": [
       "0.11027010880399057"
      ]
     },
     "execution_count": 81,
     "metadata": {},
     "output_type": "execute_result"
    }
   ],
   "source": [
    "from scipy.spatial import distance\n",
    "cluster_mean[1]\n",
    "distance.cosine(cluster_mean[0],cluster_mean[9])"
   ]
  },
  {
   "cell_type": "code",
   "execution_count": 82,
   "id": "80a51087",
   "metadata": {},
   "outputs": [
    {
     "data": {
      "text/plain": [
       "0        72378\n",
       "1        10219\n",
       "2      5281078\n",
       "3         4756\n",
       "4       446541\n",
       "        ...   \n",
       "95        4413\n",
       "96      445154\n",
       "97    57336515\n",
       "98      131411\n",
       "99       65028\n",
       "Name: 0, Length: 100, dtype: int64"
      ]
     },
     "execution_count": 82,
     "metadata": {},
     "output_type": "execute_result"
    }
   ],
   "source": [
    "from scipy.spatial import distance\n",
    "from PIL import Image\n",
    "import glob\n",
    "images_name = []\n",
    "images_name = Y[0]\n",
    "# for filename in glob.glob('images/*.png'): #assuming gif\n",
    "#     images_name.append(int((filename.split(\"/\")[1]).split(\".\")[0]))\n",
    "  \n",
    "images_name"
   ]
  },
  {
   "cell_type": "code",
   "execution_count": 83,
   "id": "be7a076e",
   "metadata": {},
   "outputs": [],
   "source": [
    "from scipy.spatial import distance\n",
    "from PIL import Image\n",
    "import glob\n",
    "image_list = []\n",
    "for filename in images_name: #assuming gif\n",
    "#     print(filename)\n",
    "    im=Image.open(\"images/%s.png\" % (filename))\n",
    "#     images_name.append(int((filename.split(\"/\")[1]).split(\".\")[0]))\n",
    "    image_list.append(im)\n",
    "\n",
    "    "
   ]
  },
  {
   "cell_type": "code",
   "execution_count": 84,
   "id": "118dd8d3",
   "metadata": {},
   "outputs": [
    {
     "data": {
      "text/plain": [
       "78358496"
      ]
     },
     "execution_count": 84,
     "metadata": {},
     "output_type": "execute_result"
    }
   ],
   "source": [
    "image_list[2]\n",
    "images_name[9]"
   ]
  },
  {
   "cell_type": "code",
   "execution_count": 85,
   "id": "7efa2933",
   "metadata": {},
   "outputs": [],
   "source": [
    "# from scipy.spatial import distance\n",
    "# from PIL import Image\n",
    "# import glob\n",
    "# image_list = []\n",
    "# for filename in glob.glob('images/*.png'): #assuming gif\n",
    "#     im=Image.open(filename)\n",
    "#     image_list.append(im)\n",
    "# for i in range(10):\n",
    "#     for j in range(10):\n",
    "#         dis = distance.cosine(cluster_mean[i],cluster_mean[j])\n",
    "#         print(dis)\n",
    "#     print('')    \n",
    "\n",
    "\n",
    "# from scipy.spatial import distance\n",
    "# from PIL import Image\n",
    "# import glob\n",
    "# image_list = []\n",
    "# images_name = []\n",
    "# for filename in glob.glob('images/*.png'): #assuming gif\n",
    "# #     print(filename)\n",
    "#     im=Image.open(filename)\n",
    "#     images_name.append(int((filename.split(\"/\")[1]).split(\".\")[0]))\n",
    "#     image_list.append(im)\n",
    "\n",
    "# images_name.sort()   \n",
    "# images_name\n",
    "    "
   ]
  },
  {
   "cell_type": "code",
   "execution_count": 86,
   "id": "e6eee7bc",
   "metadata": {},
   "outputs": [
    {
     "name": "stdout",
     "output_type": "stream",
     "text": [
      "Euclidian distancce, Outlire, Other cluster\n"
     ]
    },
    {
     "data": {
      "text/plain": [
       "[(260.09104472140035, 9, 0),\n",
       " (363.8942480706019, 9, 1),\n",
       " (392.0745296639821, 9, 2),\n",
       " (401.4488164000013, 9, 3),\n",
       " (333.297357946725, 9, 4),\n",
       " (353.87600815961963, 9, 5),\n",
       " (310.32002759949495, 9, 6),\n",
       " (348.67858167993404, 9, 7),\n",
       " (354.094607408319, 9, 8)]"
      ]
     },
     "execution_count": 86,
     "metadata": {},
     "output_type": "execute_result"
    }
   ],
   "source": [
    "# outlier need to change here for differnet experiment\n",
    "\n",
    "from scipy.spatial import distance\n",
    "outlier_cluster = outlier_cluster_list[2]\n",
    "cluster_distance = []\n",
    "for i in range(totalcluster):\n",
    "    if i == outlier_cluster:\n",
    "        continue\n",
    "    cluster_distance.append((distance.euclidean(cluster_mean[outlier_cluster], cluster_mean[i]),outlier_cluster, i))\n",
    "print('Euclidian distancce, Outlire, Other cluster')\n",
    "cluster_distance"
   ]
  },
  {
   "cell_type": "code",
   "execution_count": 87,
   "id": "e67fa9ee",
   "metadata": {},
   "outputs": [],
   "source": [
    "# import os\n",
    "# from PIL import Image\n",
    "# j = cluster_distance[0][1]\n",
    "# os.makedirs(os.path.join(\"Cluster-images\",\"outlier-cluster-{}\".format(j)))\n",
    "# for k in range(len(cluster_dict[j])):\n",
    "#         l = cluster_dict[j][k]\n",
    "#         image_list[l].save(r'Cluster-images/outlier-cluster-%d/%s.png' % (j,images_name[l]))\n",
    "\n",
    "# for i in range(len(cluster_distance)):\n",
    "#     j = cluster_distance[i][2]\n",
    "#     os.makedirs(os.path.join(\"Cluster-images\",\"cluster-{}\".format(j)))\n",
    "\n",
    "#     for k in range(len(cluster_dict[j])):\n",
    "#         l = cluster_dict[j][k]\n",
    "#         image_list[l].save(r'Cluster-images/cluster-%d/%s.png' % (j,images_name[l]))"
   ]
  },
  {
   "cell_type": "code",
   "execution_count": 88,
   "id": "4972daf0",
   "metadata": {},
   "outputs": [
    {
     "data": {
      "image/png": "[encoded data removed]",
      "text/plain": [
       "<PIL.PngImagePlugin.PngImageFile image mode=P size=300x300>"
      ]
     },
     "execution_count": 88,
     "metadata": {},
     "output_type": "execute_result"
    }
   ],
   "source": [
    "image_list[8]\n",
    "image_list[cluster_dict[1][0]]"
   ]
  },
  {
   "cell_type": "code",
   "execution_count": 89,
   "id": "f16b009c",
   "metadata": {},
   "outputs": [
    {
     "data": {
      "image/png": "[encoded data removed]",
      "text/plain": [
       "<PIL.PngImagePlugin.PngImageFile image mode=P size=300x300>"
      ]
     },
     "execution_count": 89,
     "metadata": {},
     "output_type": "execute_result"
    }
   ],
   "source": [
    "image_list[93]\n"
   ]
  },
  {
   "cell_type": "code",
   "execution_count": 90,
   "id": "b3c53737",
   "metadata": {},
   "outputs": [
    {
     "name": "stdout",
     "output_type": "stream",
     "text": [
      "Euclidian distance, Outlire, Other cluster\n"
     ]
    },
    {
     "data": {
      "text/plain": [
       "[(260.09104472140035, 9, 0),\n",
       " (310.32002759949495, 9, 6),\n",
       " (333.297357946725, 9, 4),\n",
       " (348.67858167993404, 9, 7),\n",
       " (353.87600815961963, 9, 5)]"
      ]
     },
     "execution_count": 90,
     "metadata": {},
     "output_type": "execute_result"
    }
   ],
   "source": [
    "cluster_distance.sort(key=lambda y: y[0])\n",
    "cluster_distance = cluster_distance[:5]\n",
    "print('Euclidian distance, Outlire, Other cluster')\n",
    "cluster_distance"
   ]
  },
  {
   "cell_type": "code",
   "execution_count": 91,
   "id": "eb12c57a",
   "metadata": {},
   "outputs": [],
   "source": [
    "  def findCandidateClusters(k_nearest_cluster):\n",
    "    closestCluster = k_nearest_cluster[0][2]\n",
    "    closestDistance = k_nearest_cluster[0][0]\n",
    "    candidateCluster = []\n",
    "    rejectedCluster = []\n",
    "    dist = distance.euclidean(cluster_mean[closestCluster],cluster_mean[k_nearest_cluster[0][1]])\n",
    "#     print(dist)\n",
    "    candidateCluster.append(k_nearest_cluster[0])\n",
    "    for i in k_nearest_cluster:\n",
    "        if i in rejectedCluster:\n",
    "            print('rejected')\n",
    "            print(rejectedCluster)\n",
    "            continue\n",
    "        for j in k_nearest_cluster:\n",
    "            if j == i: continue\n",
    "            dist_btwn = distance.euclidean(cluster_mean[i[2]],cluster_mean[j[2]])\n",
    "            origin = cluster_mean[i[2]] + (- cluster_mean[i[2]])\n",
    "            translate_outlier = cluster_mean[i[1]] + (- cluster_mean[i[2]])\n",
    "            translate_cluster = cluster_mean[j[2]] + (- cluster_mean[i[2]])\n",
    "            cos_dist = distance.cosine(translate_outlier, translate_cluster)\n",
    "            print(dist_btwn)\n",
    "            print(cos_dist)\n",
    "            print(j)\n",
    "            print('')\n",
    "            if cos_dist < 1  :\n",
    "                if j in candidateCluster:\n",
    "                    continue\n",
    "                candidateCluster.append(j)\n",
    "            else:\n",
    "                if j not in rejectedCluster:\n",
    "                    rejectedCluster.append(j)\n",
    "                if j in candidateCluster:\n",
    "                    print(j)\n",
    "                    print('is included') \n",
    "                    candidateCluster.remove(j)   \n",
    "                    \n",
    "        for i in candidateCluster:\n",
    "            if i in rejectedCluster:\n",
    "                candidateCluster.remove(i)\n",
    "\n",
    "    return  candidateCluster   "
   ]
  },
  {
   "cell_type": "code",
   "execution_count": 92,
   "id": "72b12e5b",
   "metadata": {},
   "outputs": [
    {
     "name": "stdout",
     "output_type": "stream",
     "text": [
      "212.60363534409066\n",
      "0.8503594518155092\n",
      "(310.32002759949495, 9, 6)\n",
      "\n",
      "125.16149487625327\n",
      "1.4265973931219396\n",
      "(333.297357946725, 9, 4)\n",
      "\n",
      "209.64407000822777\n",
      "1.0915037405544865\n",
      "(348.67858167993404, 9, 7)\n",
      "\n",
      "119.35746157997109\n",
      "1.697960049531352\n",
      "(353.87600815961963, 9, 5)\n",
      "\n",
      "212.60363534409066\n",
      "0.44030854154775123\n",
      "(260.09104472140035, 9, 0)\n",
      "\n",
      "236.87783119889482\n",
      "0.7189249190326712\n",
      "(333.297357946725, 9, 4)\n",
      "\n",
      "259.848320022914\n",
      "0.7380646149686267\n",
      "(348.67858167993404, 9, 7)\n",
      "\n",
      "277.86619332198734\n",
      "0.7200432420766056\n",
      "(353.87600815961963, 9, 5)\n",
      "\n",
      "rejected\n",
      "[(333.297357946725, 9, 4), (348.67858167993404, 9, 7), (353.87600815961963, 9, 5)]\n",
      "rejected\n",
      "[(333.297357946725, 9, 4), (348.67858167993404, 9, 7), (353.87600815961963, 9, 5)]\n",
      "rejected\n",
      "[(333.297357946725, 9, 4), (348.67858167993404, 9, 7), (353.87600815961963, 9, 5)]\n"
     ]
    },
    {
     "data": {
      "text/plain": [
       "[(260.09104472140035, 9, 0),\n",
       " (310.32002759949495, 9, 6),\n",
       " (348.67858167993404, 9, 7)]"
      ]
     },
     "execution_count": 92,
     "metadata": {},
     "output_type": "execute_result"
    }
   ],
   "source": [
    "neighborCluster = findCandidateClusters(cluster_distance)\n",
    "neighborCluster"
   ]
  },
  {
   "cell_type": "code",
   "execution_count": 93,
   "id": "af43ef8c",
   "metadata": {},
   "outputs": [
    {
     "name": "stdout",
     "output_type": "stream",
     "text": [
      "Euclidean distance, Outlier, Other cluster\n"
     ]
    },
    {
     "data": {
      "text/plain": [
       "[(260.09104472140035, 9, 0),\n",
       " (310.32002759949495, 9, 6),\n",
       " (348.67858167993404, 9, 7)]"
      ]
     },
     "execution_count": 93,
     "metadata": {},
     "output_type": "execute_result"
    }
   ],
   "source": [
    "print('Euclidean distance, Outlier, Other cluster')\n",
    "neighborCluster"
   ]
  },
  {
   "cell_type": "code",
   "execution_count": 96,
   "id": "95947dac",
   "metadata": {},
   "outputs": [],
   "source": [
    "import os\n",
    "from PIL import Image\n",
    "j = neighborCluster[0][1]\n",
    "os.makedirs(os.path.join(\"Cluster-images\",\"outlier-cluster-{}\".format(j)))\n",
    "for k in range(len(cluster_dict[j])):\n",
    "        l = cluster_dict[j][k]\n",
    "        image_list[l].save(r'Cluster-images/outlier-cluster-%d/%s.png' % (j,images_name[l]))\n",
    "\n",
    "for i in range(len(neighborCluster)):\n",
    "    j = neighborCluster[i][2]\n",
    "    os.makedirs(os.path.join(\"Cluster-images\",\"cluster-{}\".format(j)))\n",
    "\n",
    "    for k in range(len(cluster_dict[j])):\n",
    "        l = cluster_dict[j][k]\n",
    "        image_list[l].save(r'Cluster-images/cluster-%d/%s.png' % (j,images_name[l]))"
   ]
  },
  {
   "cell_type": "code",
   "execution_count": null,
   "id": "a2a864ae",
   "metadata": {},
   "outputs": [],
   "source": [
    "def findNearestObjectOfClusters(k_nearest_cluster):\n",
    "    distance_all_cluster = []\n",
    "    nearestObjects = []\n",
    "    object_distance = []\n",
    "    for j in range(len(k_nearest_cluster)):\n",
    "        for i in range(len(cluster_dict[k_nearest_cluster[j]])):\n",
    "            object_distance.append((distance.euclidean(cluster_mean[outlier_cluster[0]], X.iloc[cluster_dict[k_nearest_cluster[j]][i]]),outlier_cluster[0], k_nearest_cluster[j],  cluster_dict[k_nearest_cluster[j]][i]))\n",
    "        #distance_all_cluster.append(object_distance)\n",
    "        nearestObjects.append(min(object_distance, key=lambda tup: tup[0]))\n",
    "        object_distance = []\n",
    "    return  nearestObjects   "
   ]
  },
  {
   "cell_type": "code",
   "execution_count": null,
   "id": "63b0aaa2",
   "metadata": {},
   "outputs": [],
   "source": [
    "k_nearest_cluster = list(zip(*cluster_distance[:5]))[2]\n",
    "k_nearest_cluster"
   ]
  },
  {
   "cell_type": "code",
   "execution_count": null,
   "id": "7ca570a5",
   "metadata": {},
   "outputs": [],
   "source": [
    "nearestObjects = findNearestObjectOfClusters(k_nearest_cluster)\n",
    "nearestObjects.sort(key=lambda y: y[0])\n",
    "nearestObjects"
   ]
  },
  {
   "cell_type": "code",
   "execution_count": null,
   "id": "874987cb",
   "metadata": {},
   "outputs": [],
   "source": [
    "from scipy.spatial import distance\n",
    "for i in range(100):\n",
    "    for j in range(100):\n",
    "        print(distance.cosine(X[i], X[j]))\n",
    "    print('new loop')    "
   ]
  },
  {
   "cell_type": "code",
   "execution_count": null,
   "id": "34f027a1",
   "metadata": {},
   "outputs": [],
   "source": [
    "def findCandidateObjectOfClusters(k_nearest_objects):\n",
    "    closestObject = k_nearest_objects[0][3]\n",
    "    closestDistance = k_nearest_objects[0][0]\n",
    "    candidateObjects = []\n",
    "    candidateObjects.append(k_nearest_objects[0])\n",
    "    for j in range(len(k_nearest_objects)):\n",
    "        #if j == 0: continue\n",
    "        dist = distance.euclidean(X.iloc[closestObject], X.iloc[k_nearest_objects[j][3]])\n",
    "        cos_dist = distance.cosine(X.iloc[closestObject], X.iloc[k_nearest_objects[j][3]])\n",
    "        print(dist)\n",
    "        if cos_dist >= .6 and dist  >=  closestDistance*.8 :\n",
    "            candidateObjects.append(k_nearest_objects[j])\n",
    "    return  candidateObjects   "
   ]
  },
  {
   "cell_type": "code",
   "execution_count": null,
   "id": "e322c623",
   "metadata": {},
   "outputs": [],
   "source": [
    "neighborObjects = findCandidateObjectOfClusters(nearestObjects)\n",
    "neighborObjects"
   ]
  },
  {
   "cell_type": "code",
   "execution_count": null,
   "id": "0373bba6",
   "metadata": {},
   "outputs": [],
   "source": []
  },
  {
   "cell_type": "code",
   "execution_count": null,
   "id": "66ddd7d3",
   "metadata": {},
   "outputs": [],
   "source": []
  }
 ],
 "metadata": {
  "kernelspec": {
   "display_name": "Python 3 (ipykernel)",
   "language": "python",
   "name": "python3"
  },
  "language_info": {
   "codemirror_mode": {
    "name": "ipython",
    "version": 3
   },
   "file_extension": ".py",
   "mimetype": "text/x-python",
   "name": "python",
   "nbconvert_exporter": "python",
   "pygments_lexer": "ipython3",
   "version": "3.10.7"
  }
 },
 "nbformat": 4,
 "nbformat_minor": 5
}
