{
 "cells": [
  {
   "cell_type": "code",
   "execution_count": 1,
   "id": "0e1e98f5",
   "metadata": {},
   "outputs": [],
   "source": [
    "import pandas as pd\n",
    "import numpy as np\n",
    "\n",
    "\n"
   ]
  },
  {
   "cell_type": "code",
   "execution_count": 33,
   "id": "c1d125a1",
   "metadata": {},
   "outputs": [],
   "source": [
    "df = pd.read_csv('cov2vect.csv', header = None)\n",
    "X = df"
   ]
  },
  {
   "cell_type": "code",
   "execution_count": 8,
   "id": "f8b76508",
   "metadata": {},
   "outputs": [],
   "source": [
    "import numpy as np\n",
    "\n",
    "from matplotlib import pyplot as plt\n",
    "from scipy.cluster.hierarchy import dendrogram\n",
    "from sklearn.cluster import AgglomerativeClustering\n",
    "\n",
    "\n",
    "def plot_dendrogram(model, **kwargs):\n",
    "    # Create linkage matrix and then plot the dendrogram\n",
    "\n",
    "    # create the counts of samples under each node\n",
    "    counts = np.zeros(model.children_.shape[0])\n",
    "    n_samples = len(model.labels_)\n",
    "    for i, merge in enumerate(model.children_):\n",
    "        current_count = 0\n",
    "        for child_idx in merge:\n",
    "            if child_idx < n_samples:\n",
    "                current_count += 1  # leaf node\n",
    "            else:\n",
    "                current_count += counts[child_idx - n_samples]\n",
    "        counts[i] = current_count\n",
    "\n",
    "    linkage_matrix = np.column_stack(\n",
    "        [model.children_, model.distances_, counts]\n",
    "    ).astype(float)\n",
    "\n",
    "    # Plot the corresponding dendrogram\n",
    "    dendrogram(linkage_matrix, **kwargs)\n",
    "\n",
    "\n",
    "\n",
    "\n",
    "# setting distance_threshold=0 ensures we compute the full tree.\n",
    "model = AgglomerativeClustering(distance_threshold=0, n_clusters=None)\n",
    "\n",
    "model = model1.fit(df)\n"
   ]
  },
  {
   "cell_type": "code",
   "execution_count": 19,
   "id": "ce5afc7f",
   "metadata": {},
   "outputs": [
    {
     "data": {
      "image/png": "[encoded data removed]",
      "text/plain": [
       "<Figure size 432x288 with 1 Axes>"
      ]
     },
     "metadata": {
      "needs_background": "light"
     },
     "output_type": "display_data"
    }
   ],
   "source": [
    "plt.title(\"Hierarchical Clustering Dendrogram\")\n",
    "# plot the top three levels of the dendrogram\n",
    "plot_dendrogram(model, truncate_mode=\"level\", p=5)\n",
    "plt.xlabel(\"Number of points in node (or index of point if no parenthesis).\")\n",
    "plt.show()"
   ]
  },
  {
   "cell_type": "code",
   "execution_count": 103,
   "id": "ef9fa43a",
   "metadata": {},
   "outputs": [],
   "source": [
    "# setting distance_threshold=0 ensures we compute the full tree.\n",
    "model1 = AgglomerativeClustering(distance_threshold=200, n_clusters=None)\n",
    "\n",
    "model1 = model1.fit(df)"
   ]
  },
  {
   "cell_type": "code",
   "execution_count": 104,
   "id": "dbb862fc",
   "metadata": {},
   "outputs": [
    {
     "data": {
      "text/plain": [
       "8"
      ]
     },
     "execution_count": 104,
     "metadata": {},
     "output_type": "execute_result"
    }
   ],
   "source": [
    "labels = model1.labels_.tolist()\n",
    "nocluster = set(labels)\n",
    "totalcluster = len(nocluster)\n",
    "totalcluster"
   ]
  },
  {
   "cell_type": "code",
   "execution_count": 105,
   "id": "83e409c4",
   "metadata": {},
   "outputs": [],
   "source": [
    "cluster_dict = {}\n",
    "\n",
    "i = 0\n",
    "for i in range(len(labels)):\n",
    "    if labels[i] not in cluster_dict.keys():\n",
    "         cluster_dict[labels[i]] = [i]\n",
    "    else:\n",
    "          cluster_dict[labels[i]].append(i)\n",
    "    i+=1"
   ]
  },
  {
   "cell_type": "code",
   "execution_count": 106,
   "id": "d5ed8007",
   "metadata": {},
   "outputs": [
    {
     "name": "stdout",
     "output_type": "stream",
     "text": [
      "62\n",
      "6\n",
      "20\n",
      "1\n",
      "1\n",
      "6\n",
      "3\n",
      "1\n"
     ]
    }
   ],
   "source": [
    "for i in range(totalcluster):\n",
    "    print(len(cluster_dict[i]))"
   ]
  },
  {
   "cell_type": "code",
   "execution_count": 149,
   "id": "9c0f2ad1",
   "metadata": {},
   "outputs": [
    {
     "name": "stdout",
     "output_type": "stream",
     "text": [
      "[6]\n"
     ]
    }
   ],
   "source": [
    "outlier_cluster = []\n",
    "for i in range(totalcluster):\n",
    "    if len(cluster_dict[i]) == 3:\n",
    "        outlier_cluster.append(i)\n",
    "    \n",
    "print(outlier_cluster)"
   ]
  },
  {
   "cell_type": "code",
   "execution_count": 150,
   "id": "b1312227",
   "metadata": {},
   "outputs": [
    {
     "data": {
      "text/plain": [
       "[9, 51, 65]"
      ]
     },
     "execution_count": 150,
     "metadata": {},
     "output_type": "execute_result"
    }
   ],
   "source": [
    "cluster_dict[outlier_cluster[0]]"
   ]
  },
  {
   "cell_type": "code",
   "execution_count": 151,
   "id": "39cf1a2b",
   "metadata": {},
   "outputs": [
    {
     "data": {
      "text/html": [
       "<div>\n",
       "<style scoped>\n",
       "    .dataframe tbody tr th:only-of-type {\n",
       "        vertical-align: middle;\n",
       "    }\n",
       "\n",
       "    .dataframe tbody tr th {\n",
       "        vertical-align: top;\n",
       "    }\n",
       "\n",
       "    .dataframe thead th {\n",
       "        text-align: right;\n",
       "    }\n",
       "</style>\n",
       "<table border=\"1\" class=\"dataframe\">\n",
       "  <thead>\n",
       "    <tr style=\"text-align: right;\">\n",
       "      <th></th>\n",
       "      <th>0</th>\n",
       "      <th>1</th>\n",
       "      <th>2</th>\n",
       "      <th>3</th>\n",
       "      <th>4</th>\n",
       "      <th>5</th>\n",
       "      <th>6</th>\n",
       "      <th>7</th>\n",
       "      <th>8</th>\n",
       "      <th>9</th>\n",
       "      <th>...</th>\n",
       "      <th>290</th>\n",
       "      <th>291</th>\n",
       "      <th>292</th>\n",
       "      <th>293</th>\n",
       "      <th>294</th>\n",
       "      <th>295</th>\n",
       "      <th>296</th>\n",
       "      <th>297</th>\n",
       "      <th>298</th>\n",
       "      <th>299</th>\n",
       "    </tr>\n",
       "  </thead>\n",
       "  <tbody>\n",
       "    <tr>\n",
       "      <th>9</th>\n",
       "      <td>6.897169</td>\n",
       "      <td>-12.525783</td>\n",
       "      <td>-13.151663</td>\n",
       "      <td>12.040704</td>\n",
       "      <td>10.877389</td>\n",
       "      <td>-21.406570</td>\n",
       "      <td>-37.052700</td>\n",
       "      <td>-7.430361</td>\n",
       "      <td>27.070145</td>\n",
       "      <td>-15.850810</td>\n",
       "      <td>...</td>\n",
       "      <td>2.690801</td>\n",
       "      <td>32.183470</td>\n",
       "      <td>5.924790</td>\n",
       "      <td>1.075182</td>\n",
       "      <td>-38.089603</td>\n",
       "      <td>-26.841534</td>\n",
       "      <td>-14.346491</td>\n",
       "      <td>-21.882774</td>\n",
       "      <td>-58.605103</td>\n",
       "      <td>-1.435243</td>\n",
       "    </tr>\n",
       "    <tr>\n",
       "      <th>51</th>\n",
       "      <td>2.716504</td>\n",
       "      <td>-12.474319</td>\n",
       "      <td>-17.129742</td>\n",
       "      <td>14.265157</td>\n",
       "      <td>8.309044</td>\n",
       "      <td>-23.847584</td>\n",
       "      <td>-26.827423</td>\n",
       "      <td>0.001341</td>\n",
       "      <td>25.956139</td>\n",
       "      <td>-23.471962</td>\n",
       "      <td>...</td>\n",
       "      <td>0.179411</td>\n",
       "      <td>36.033234</td>\n",
       "      <td>4.755759</td>\n",
       "      <td>5.891502</td>\n",
       "      <td>-39.243180</td>\n",
       "      <td>-35.381340</td>\n",
       "      <td>-27.973143</td>\n",
       "      <td>-22.153700</td>\n",
       "      <td>-51.876076</td>\n",
       "      <td>2.322817</td>\n",
       "    </tr>\n",
       "    <tr>\n",
       "      <th>65</th>\n",
       "      <td>6.946175</td>\n",
       "      <td>-12.658343</td>\n",
       "      <td>-12.787438</td>\n",
       "      <td>12.843306</td>\n",
       "      <td>9.446609</td>\n",
       "      <td>-20.441187</td>\n",
       "      <td>-35.105312</td>\n",
       "      <td>-7.090715</td>\n",
       "      <td>27.975119</td>\n",
       "      <td>-15.091422</td>\n",
       "      <td>...</td>\n",
       "      <td>3.072030</td>\n",
       "      <td>31.525349</td>\n",
       "      <td>5.806314</td>\n",
       "      <td>-0.871556</td>\n",
       "      <td>-38.197735</td>\n",
       "      <td>-26.261814</td>\n",
       "      <td>-12.724133</td>\n",
       "      <td>-20.764698</td>\n",
       "      <td>-57.010160</td>\n",
       "      <td>-0.977283</td>\n",
       "    </tr>\n",
       "  </tbody>\n",
       "</table>\n",
       "<p>3 rows × 300 columns</p>\n",
       "</div>"
      ],
      "text/plain": [
       "         0          1          2          3          4          5    \\\n",
       "9   6.897169 -12.525783 -13.151663  12.040704  10.877389 -21.406570   \n",
       "51  2.716504 -12.474319 -17.129742  14.265157   8.309044 -23.847584   \n",
       "65  6.946175 -12.658343 -12.787438  12.843306   9.446609 -20.441187   \n",
       "\n",
       "          6         7          8          9    ...       290        291  \\\n",
       "9  -37.052700 -7.430361  27.070145 -15.850810  ...  2.690801  32.183470   \n",
       "51 -26.827423  0.001341  25.956139 -23.471962  ...  0.179411  36.033234   \n",
       "65 -35.105312 -7.090715  27.975119 -15.091422  ...  3.072030  31.525349   \n",
       "\n",
       "         292       293        294        295        296        297        298  \\\n",
       "9   5.924790  1.075182 -38.089603 -26.841534 -14.346491 -21.882774 -58.605103   \n",
       "51  4.755759  5.891502 -39.243180 -35.381340 -27.973143 -22.153700 -51.876076   \n",
       "65  5.806314 -0.871556 -38.197735 -26.261814 -12.724133 -20.764698 -57.010160   \n",
       "\n",
       "         299  \n",
       "9  -1.435243  \n",
       "51  2.322817  \n",
       "65 -0.977283  \n",
       "\n",
       "[3 rows x 300 columns]"
      ]
     },
     "execution_count": 151,
     "metadata": {},
     "output_type": "execute_result"
    }
   ],
   "source": [
    "X.iloc[cluster_dict[outlier_cluster[0]]]"
   ]
  },
  {
   "cell_type": "code",
   "execution_count": 152,
   "id": "21499687",
   "metadata": {},
   "outputs": [
    {
     "data": {
      "text/html": [
       "<div>\n",
       "<style scoped>\n",
       "    .dataframe tbody tr th:only-of-type {\n",
       "        vertical-align: middle;\n",
       "    }\n",
       "\n",
       "    .dataframe tbody tr th {\n",
       "        vertical-align: top;\n",
       "    }\n",
       "\n",
       "    .dataframe thead th {\n",
       "        text-align: right;\n",
       "    }\n",
       "</style>\n",
       "<table border=\"1\" class=\"dataframe\">\n",
       "  <thead>\n",
       "    <tr style=\"text-align: right;\">\n",
       "      <th></th>\n",
       "      <th>0</th>\n",
       "      <th>1</th>\n",
       "      <th>2</th>\n",
       "      <th>3</th>\n",
       "      <th>4</th>\n",
       "      <th>5</th>\n",
       "      <th>6</th>\n",
       "      <th>7</th>\n",
       "      <th>8</th>\n",
       "      <th>9</th>\n",
       "      <th>...</th>\n",
       "      <th>290</th>\n",
       "      <th>291</th>\n",
       "      <th>292</th>\n",
       "      <th>293</th>\n",
       "      <th>294</th>\n",
       "      <th>295</th>\n",
       "      <th>296</th>\n",
       "      <th>297</th>\n",
       "      <th>298</th>\n",
       "      <th>299</th>\n",
       "    </tr>\n",
       "  </thead>\n",
       "  <tbody>\n",
       "    <tr>\n",
       "      <th>0</th>\n",
       "      <td>4.380573</td>\n",
       "      <td>-3.762141</td>\n",
       "      <td>-4.292756</td>\n",
       "      <td>7.175021</td>\n",
       "      <td>-0.381252</td>\n",
       "      <td>0.976608</td>\n",
       "      <td>-11.767803</td>\n",
       "      <td>-0.974412</td>\n",
       "      <td>6.000600</td>\n",
       "      <td>4.144257</td>\n",
       "      <td>...</td>\n",
       "      <td>-2.370787</td>\n",
       "      <td>8.558210</td>\n",
       "      <td>13.280169</td>\n",
       "      <td>-3.033208</td>\n",
       "      <td>-9.818228</td>\n",
       "      <td>-2.494200</td>\n",
       "      <td>-5.174267</td>\n",
       "      <td>-7.776530</td>\n",
       "      <td>-12.377538</td>\n",
       "      <td>-3.860251</td>\n",
       "    </tr>\n",
       "    <tr>\n",
       "      <th>1</th>\n",
       "      <td>1.615402</td>\n",
       "      <td>-1.541404</td>\n",
       "      <td>-4.348377</td>\n",
       "      <td>6.987983</td>\n",
       "      <td>0.299455</td>\n",
       "      <td>1.230945</td>\n",
       "      <td>-10.948531</td>\n",
       "      <td>-1.373381</td>\n",
       "      <td>5.657287</td>\n",
       "      <td>2.931703</td>\n",
       "      <td>...</td>\n",
       "      <td>-1.994228</td>\n",
       "      <td>9.442633</td>\n",
       "      <td>10.524706</td>\n",
       "      <td>0.331448</td>\n",
       "      <td>-6.053142</td>\n",
       "      <td>-4.214556</td>\n",
       "      <td>-4.721151</td>\n",
       "      <td>-3.716502</td>\n",
       "      <td>-10.301792</td>\n",
       "      <td>-2.658725</td>\n",
       "    </tr>\n",
       "    <tr>\n",
       "      <th>5</th>\n",
       "      <td>4.306118</td>\n",
       "      <td>-4.498449</td>\n",
       "      <td>-4.337784</td>\n",
       "      <td>3.889667</td>\n",
       "      <td>0.592068</td>\n",
       "      <td>-2.920209</td>\n",
       "      <td>-8.376898</td>\n",
       "      <td>-0.177649</td>\n",
       "      <td>-1.845484</td>\n",
       "      <td>-1.773697</td>\n",
       "      <td>...</td>\n",
       "      <td>-1.559172</td>\n",
       "      <td>10.104984</td>\n",
       "      <td>4.541252</td>\n",
       "      <td>0.048207</td>\n",
       "      <td>-6.150071</td>\n",
       "      <td>-8.784404</td>\n",
       "      <td>-6.556404</td>\n",
       "      <td>-4.800001</td>\n",
       "      <td>-12.049576</td>\n",
       "      <td>1.716941</td>\n",
       "    </tr>\n",
       "    <tr>\n",
       "      <th>6</th>\n",
       "      <td>1.093624</td>\n",
       "      <td>-5.671013</td>\n",
       "      <td>-2.609400</td>\n",
       "      <td>6.104267</td>\n",
       "      <td>-0.332236</td>\n",
       "      <td>-2.482544</td>\n",
       "      <td>-13.627041</td>\n",
       "      <td>-0.518970</td>\n",
       "      <td>11.545498</td>\n",
       "      <td>5.095334</td>\n",
       "      <td>...</td>\n",
       "      <td>-0.049799</td>\n",
       "      <td>13.182612</td>\n",
       "      <td>10.632201</td>\n",
       "      <td>-0.719244</td>\n",
       "      <td>-9.970536</td>\n",
       "      <td>-2.243735</td>\n",
       "      <td>-4.557263</td>\n",
       "      <td>-7.573205</td>\n",
       "      <td>-10.516246</td>\n",
       "      <td>-3.573571</td>\n",
       "    </tr>\n",
       "    <tr>\n",
       "      <th>7</th>\n",
       "      <td>0.836051</td>\n",
       "      <td>-1.118793</td>\n",
       "      <td>-1.634204</td>\n",
       "      <td>5.413080</td>\n",
       "      <td>1.317364</td>\n",
       "      <td>0.556868</td>\n",
       "      <td>-8.556067</td>\n",
       "      <td>0.479548</td>\n",
       "      <td>9.014528</td>\n",
       "      <td>2.765248</td>\n",
       "      <td>...</td>\n",
       "      <td>-1.673157</td>\n",
       "      <td>6.950095</td>\n",
       "      <td>10.267343</td>\n",
       "      <td>0.900610</td>\n",
       "      <td>-5.776972</td>\n",
       "      <td>-2.198107</td>\n",
       "      <td>-2.325908</td>\n",
       "      <td>-3.227983</td>\n",
       "      <td>-9.295700</td>\n",
       "      <td>-3.111530</td>\n",
       "    </tr>\n",
       "    <tr>\n",
       "      <th>...</th>\n",
       "      <td>...</td>\n",
       "      <td>...</td>\n",
       "      <td>...</td>\n",
       "      <td>...</td>\n",
       "      <td>...</td>\n",
       "      <td>...</td>\n",
       "      <td>...</td>\n",
       "      <td>...</td>\n",
       "      <td>...</td>\n",
       "      <td>...</td>\n",
       "      <td>...</td>\n",
       "      <td>...</td>\n",
       "      <td>...</td>\n",
       "      <td>...</td>\n",
       "      <td>...</td>\n",
       "      <td>...</td>\n",
       "      <td>...</td>\n",
       "      <td>...</td>\n",
       "      <td>...</td>\n",
       "      <td>...</td>\n",
       "      <td>...</td>\n",
       "    </tr>\n",
       "    <tr>\n",
       "      <th>90</th>\n",
       "      <td>-0.505307</td>\n",
       "      <td>-3.350640</td>\n",
       "      <td>-2.380462</td>\n",
       "      <td>5.427719</td>\n",
       "      <td>1.993614</td>\n",
       "      <td>-0.718848</td>\n",
       "      <td>-10.492416</td>\n",
       "      <td>0.121347</td>\n",
       "      <td>8.415737</td>\n",
       "      <td>0.905327</td>\n",
       "      <td>...</td>\n",
       "      <td>-0.133406</td>\n",
       "      <td>8.942255</td>\n",
       "      <td>9.249226</td>\n",
       "      <td>0.712769</td>\n",
       "      <td>-8.296149</td>\n",
       "      <td>-2.401492</td>\n",
       "      <td>-4.029211</td>\n",
       "      <td>-5.376836</td>\n",
       "      <td>-9.660403</td>\n",
       "      <td>-1.398522</td>\n",
       "    </tr>\n",
       "    <tr>\n",
       "      <th>91</th>\n",
       "      <td>2.250107</td>\n",
       "      <td>-6.581404</td>\n",
       "      <td>-2.165844</td>\n",
       "      <td>2.047649</td>\n",
       "      <td>-0.906615</td>\n",
       "      <td>-4.266267</td>\n",
       "      <td>-6.424593</td>\n",
       "      <td>2.269162</td>\n",
       "      <td>-1.563439</td>\n",
       "      <td>1.543726</td>\n",
       "      <td>...</td>\n",
       "      <td>-1.562444</td>\n",
       "      <td>12.586503</td>\n",
       "      <td>0.179809</td>\n",
       "      <td>-1.655671</td>\n",
       "      <td>-11.530931</td>\n",
       "      <td>-8.136591</td>\n",
       "      <td>-10.019608</td>\n",
       "      <td>-2.021050</td>\n",
       "      <td>-8.937672</td>\n",
       "      <td>1.199830</td>\n",
       "    </tr>\n",
       "    <tr>\n",
       "      <th>94</th>\n",
       "      <td>0.599743</td>\n",
       "      <td>-2.336571</td>\n",
       "      <td>-1.114373</td>\n",
       "      <td>4.451087</td>\n",
       "      <td>1.817414</td>\n",
       "      <td>1.073011</td>\n",
       "      <td>-7.556056</td>\n",
       "      <td>1.932689</td>\n",
       "      <td>6.672818</td>\n",
       "      <td>2.082816</td>\n",
       "      <td>...</td>\n",
       "      <td>-1.071261</td>\n",
       "      <td>6.913511</td>\n",
       "      <td>10.729548</td>\n",
       "      <td>0.902669</td>\n",
       "      <td>-6.317394</td>\n",
       "      <td>-1.772251</td>\n",
       "      <td>-3.508738</td>\n",
       "      <td>-2.667762</td>\n",
       "      <td>-8.448436</td>\n",
       "      <td>-2.620669</td>\n",
       "    </tr>\n",
       "    <tr>\n",
       "      <th>96</th>\n",
       "      <td>3.544500</td>\n",
       "      <td>-5.088700</td>\n",
       "      <td>-3.315926</td>\n",
       "      <td>5.468853</td>\n",
       "      <td>0.521531</td>\n",
       "      <td>-0.821191</td>\n",
       "      <td>-12.729947</td>\n",
       "      <td>2.851914</td>\n",
       "      <td>5.488653</td>\n",
       "      <td>5.070152</td>\n",
       "      <td>...</td>\n",
       "      <td>-0.503847</td>\n",
       "      <td>12.866527</td>\n",
       "      <td>10.566926</td>\n",
       "      <td>-1.296119</td>\n",
       "      <td>-13.432643</td>\n",
       "      <td>-2.631300</td>\n",
       "      <td>-7.870134</td>\n",
       "      <td>-4.082045</td>\n",
       "      <td>-11.629880</td>\n",
       "      <td>-2.839345</td>\n",
       "    </tr>\n",
       "    <tr>\n",
       "      <th>98</th>\n",
       "      <td>0.438703</td>\n",
       "      <td>-2.610365</td>\n",
       "      <td>0.897654</td>\n",
       "      <td>0.796714</td>\n",
       "      <td>2.445454</td>\n",
       "      <td>0.709119</td>\n",
       "      <td>-4.709922</td>\n",
       "      <td>-0.176891</td>\n",
       "      <td>1.258019</td>\n",
       "      <td>-1.755155</td>\n",
       "      <td>...</td>\n",
       "      <td>0.857213</td>\n",
       "      <td>3.944325</td>\n",
       "      <td>2.380118</td>\n",
       "      <td>0.498039</td>\n",
       "      <td>-4.583952</td>\n",
       "      <td>0.036167</td>\n",
       "      <td>-1.158296</td>\n",
       "      <td>-4.024033</td>\n",
       "      <td>-4.054891</td>\n",
       "      <td>-2.484290</td>\n",
       "    </tr>\n",
       "  </tbody>\n",
       "</table>\n",
       "<p>62 rows × 300 columns</p>\n",
       "</div>"
      ],
      "text/plain": [
       "         0         1         2         3         4         5          6    \\\n",
       "0   4.380573 -3.762141 -4.292756  7.175021 -0.381252  0.976608 -11.767803   \n",
       "1   1.615402 -1.541404 -4.348377  6.987983  0.299455  1.230945 -10.948531   \n",
       "5   4.306118 -4.498449 -4.337784  3.889667  0.592068 -2.920209  -8.376898   \n",
       "6   1.093624 -5.671013 -2.609400  6.104267 -0.332236 -2.482544 -13.627041   \n",
       "7   0.836051 -1.118793 -1.634204  5.413080  1.317364  0.556868  -8.556067   \n",
       "..       ...       ...       ...       ...       ...       ...        ...   \n",
       "90 -0.505307 -3.350640 -2.380462  5.427719  1.993614 -0.718848 -10.492416   \n",
       "91  2.250107 -6.581404 -2.165844  2.047649 -0.906615 -4.266267  -6.424593   \n",
       "94  0.599743 -2.336571 -1.114373  4.451087  1.817414  1.073011  -7.556056   \n",
       "96  3.544500 -5.088700 -3.315926  5.468853  0.521531 -0.821191 -12.729947   \n",
       "98  0.438703 -2.610365  0.897654  0.796714  2.445454  0.709119  -4.709922   \n",
       "\n",
       "         7          8         9    ...       290        291        292  \\\n",
       "0  -0.974412   6.000600  4.144257  ... -2.370787   8.558210  13.280169   \n",
       "1  -1.373381   5.657287  2.931703  ... -1.994228   9.442633  10.524706   \n",
       "5  -0.177649  -1.845484 -1.773697  ... -1.559172  10.104984   4.541252   \n",
       "6  -0.518970  11.545498  5.095334  ... -0.049799  13.182612  10.632201   \n",
       "7   0.479548   9.014528  2.765248  ... -1.673157   6.950095  10.267343   \n",
       "..       ...        ...       ...  ...       ...        ...        ...   \n",
       "90  0.121347   8.415737  0.905327  ... -0.133406   8.942255   9.249226   \n",
       "91  2.269162  -1.563439  1.543726  ... -1.562444  12.586503   0.179809   \n",
       "94  1.932689   6.672818  2.082816  ... -1.071261   6.913511  10.729548   \n",
       "96  2.851914   5.488653  5.070152  ... -0.503847  12.866527  10.566926   \n",
       "98 -0.176891   1.258019 -1.755155  ...  0.857213   3.944325   2.380118   \n",
       "\n",
       "         293        294       295        296       297        298       299  \n",
       "0  -3.033208  -9.818228 -2.494200  -5.174267 -7.776530 -12.377538 -3.860251  \n",
       "1   0.331448  -6.053142 -4.214556  -4.721151 -3.716502 -10.301792 -2.658725  \n",
       "5   0.048207  -6.150071 -8.784404  -6.556404 -4.800001 -12.049576  1.716941  \n",
       "6  -0.719244  -9.970536 -2.243735  -4.557263 -7.573205 -10.516246 -3.573571  \n",
       "7   0.900610  -5.776972 -2.198107  -2.325908 -3.227983  -9.295700 -3.111530  \n",
       "..       ...        ...       ...        ...       ...        ...       ...  \n",
       "90  0.712769  -8.296149 -2.401492  -4.029211 -5.376836  -9.660403 -1.398522  \n",
       "91 -1.655671 -11.530931 -8.136591 -10.019608 -2.021050  -8.937672  1.199830  \n",
       "94  0.902669  -6.317394 -1.772251  -3.508738 -2.667762  -8.448436 -2.620669  \n",
       "96 -1.296119 -13.432643 -2.631300  -7.870134 -4.082045 -11.629880 -2.839345  \n",
       "98  0.498039  -4.583952  0.036167  -1.158296 -4.024033  -4.054891 -2.484290  \n",
       "\n",
       "[62 rows x 300 columns]"
      ]
     },
     "execution_count": 152,
     "metadata": {},
     "output_type": "execute_result"
    }
   ],
   "source": [
    "X.iloc[cluster_dict[0]]"
   ]
  },
  {
   "cell_type": "code",
   "execution_count": 153,
   "id": "487fb504",
   "metadata": {},
   "outputs": [
    {
     "data": {
      "text/plain": [
       "(8, 300)"
      ]
     },
     "execution_count": 153,
     "metadata": {},
     "output_type": "execute_result"
    }
   ],
   "source": [
    "cluster_mean = np.zeros((totalcluster, X.iloc[1].size))\n",
    "cluster_mean.shape"
   ]
  },
  {
   "cell_type": "code",
   "execution_count": 154,
   "id": "e77caf74",
   "metadata": {},
   "outputs": [],
   "source": [
    "cluster_mean = np.zeros((totalcluster, X.iloc[1].size))\n",
    "\n",
    "for i in range(totalcluster):\n",
    "    cluster_mean[i] = np.mean(X.iloc[cluster_dict[i]], axis=0)\n",
    "    \n"
   ]
  },
  {
   "cell_type": "code",
   "execution_count": 155,
   "id": "a8fe2c68",
   "metadata": {},
   "outputs": [
    {
     "data": {
      "text/plain": [
       "array([-8.60102667e-02, -1.24086457e+01, -9.23143658e+00,  7.68117308e-01,\n",
       "       -1.29888980e+00, -1.73960953e+01, -1.90584377e+01,  6.31347757e+00,\n",
       "        6.50111100e-01, -8.29233992e+00,  1.21244075e+01,  4.65404898e+00,\n",
       "        1.13630151e+01,  6.72716142e+00, -8.97658350e+00, -1.39918453e+01,\n",
       "        9.44315737e+00, -7.61305610e+00, -1.45860252e+01,  1.36078388e+01,\n",
       "        1.32719367e+01,  1.45752961e+01,  2.50565233e+01,  1.99206164e+01,\n",
       "       -1.26407495e+01,  9.27442973e+00, -1.23197903e+01, -1.53496872e+01,\n",
       "        4.77970453e+00, -9.25525575e+00,  5.77519307e+00, -7.77367987e+00,\n",
       "       -1.85018373e+01, -7.18553647e+00,  2.98063293e+00,  3.60941789e+00,\n",
       "       -4.85920290e+00, -4.51661643e+00,  3.13490673e+01,  1.37090782e+01,\n",
       "       -3.87421908e+00, -3.01905492e-01, -2.93289693e+00, -4.63309415e+00,\n",
       "       -1.47990940e+01,  2.08952108e+01,  5.56633200e-01,  2.11676915e+01,\n",
       "       -8.07482328e+00,  5.79763038e+00, -2.23898675e+00, -1.36162463e+01,\n",
       "       -2.06809075e+00,  1.27988550e+00, -3.52408655e+01, -2.35997397e+01,\n",
       "       -2.16701532e+01,  1.65776527e+01,  8.75223023e+00,  3.69694865e+00,\n",
       "       -1.09345013e+01, -1.08739934e+01, -1.99621660e+01,  1.09732140e+01,\n",
       "       -3.62232862e+01, -9.25909820e+00,  2.43050857e+01,  3.51073807e-02,\n",
       "       -2.22500170e+01, -9.07060713e+00, -1.61051943e+01,  1.78106401e+01,\n",
       "        1.86898703e+01, -1.51747758e+01, -5.59395108e+00, -2.81655558e+00,\n",
       "       -1.29821720e+01,  5.86559480e+00, -3.58337319e+00,  6.53195680e+00,\n",
       "        1.57543458e+01, -1.02762210e+01, -2.85264926e+00, -3.17258255e+01,\n",
       "        1.06747983e+01,  5.93138375e+00, -9.10704578e+00,  2.43069515e+01,\n",
       "        9.58275537e+00, -2.88457716e+00, -4.29857288e+00,  5.40116061e+00,\n",
       "       -4.80681937e+00, -3.99863830e+00,  1.56530187e+01, -1.01757050e+01,\n",
       "        8.66502542e+00,  1.47121565e+01,  9.73910907e+00, -8.64608770e+00,\n",
       "       -8.49569450e+00, -1.11542432e+01, -1.04510506e+01, -3.25852317e+00,\n",
       "        9.01148695e+00, -9.05657083e+00, -9.64612943e+00,  1.84002138e+01,\n",
       "        5.37813550e+00, -2.09022453e+01, -2.21348532e+01,  1.08306568e+01,\n",
       "       -3.64335683e+00, -5.96163127e+00,  2.27002502e+00, -5.58732962e+00,\n",
       "        2.35393135e+01,  2.57030487e+01, -7.53216875e+00, -2.35632043e+00,\n",
       "       -6.72707105e+00,  1.04593677e+01,  4.93484088e+00,  1.83141853e+01,\n",
       "        7.26998678e+00, -2.32145737e+01, -1.33096765e+01, -3.02227187e+00,\n",
       "       -1.48531475e+01, -5.19914033e+00, -1.33775362e+01,  1.90689137e+01,\n",
       "        1.19341937e+01,  2.26239412e+01,  1.47565693e+01,  2.53905343e+01,\n",
       "        1.19863488e+01, -4.62432861e+00,  4.05989815e+00, -1.69371215e+01,\n",
       "        9.68295925e+00, -9.27944628e+00, -9.83440493e+00, -1.07578534e+01,\n",
       "        6.75874266e+00,  1.49813591e+01, -1.09353863e+01,  7.05138533e+00,\n",
       "       -1.61656957e+00,  3.88646686e+00,  8.38649153e+00,  1.65970472e+01,\n",
       "        2.35971105e+01, -1.14154881e+01,  1.76542065e+00,  1.08794380e+01,\n",
       "       -1.77809367e+01,  4.39182608e+00, -3.82396498e+00, -4.28763650e+00,\n",
       "       -5.28217048e-01, -2.43937983e-01, -3.66169312e+00,  8.11276295e+00,\n",
       "        1.47124668e+00, -9.10946050e+00, -3.64338140e+00, -1.22930625e+01,\n",
       "       -1.04456798e+01,  8.17062453e+00, -9.99742453e+00, -1.05289706e+01,\n",
       "        1.95229883e+01, -1.42660849e+01,  1.71257892e+01, -1.12775667e+01,\n",
       "        4.48873305e+00,  6.93457538e+00,  3.74322038e+00,  2.85557927e+01,\n",
       "       -3.45505128e+00,  1.80869007e+01,  3.33584652e+00,  3.13477520e+01,\n",
       "        1.23921197e+01, -5.80553697e+00, -3.28002055e+00, -2.22281591e+00,\n",
       "       -6.53197017e+00, -1.57327034e+01,  5.74759773e+00, -4.57905243e-01,\n",
       "       -6.29999718e+00, -7.39655823e+00,  1.97831807e-01,  5.70225755e+00,\n",
       "       -1.01142497e+00, -2.71639747e+01,  5.46907020e-01,  7.49124325e+00,\n",
       "        9.49530200e+00,  1.21895987e+01,  1.58920776e+01,  1.07435637e+01,\n",
       "        6.14943627e+00,  1.52432828e+01,  1.47001428e+01,  1.87457057e+01,\n",
       "        1.92183722e+01, -1.79169465e+00,  2.01647647e+01, -1.21078613e+01,\n",
       "        2.58872453e+01, -1.57962395e+01,  1.55350262e+01, -3.23783464e+00,\n",
       "        9.99256677e+00,  1.79366677e+01, -1.20481374e+01,  5.05987542e+00,\n",
       "        1.12655021e+01, -2.40859015e+01, -2.62135043e+01,  1.16515262e+01,\n",
       "        6.00606588e+00, -1.97583323e+01, -7.17940014e+00, -2.00241658e+01,\n",
       "        7.44402108e+00, -4.16915352e+00,  7.98894492e+00, -1.39583022e+00,\n",
       "       -1.21057550e+01, -2.01343822e+01, -7.54975792e+00, -1.67905778e+01,\n",
       "        6.98253085e+00,  9.46250400e+00, -6.08891273e+00,  1.23599752e+01,\n",
       "        9.65486525e+00, -2.46441593e+01,  1.19971110e+01,  3.02715402e+00,\n",
       "       -6.13985623e-01,  1.79969377e+01, -1.93809717e+01, -1.52805490e+01,\n",
       "        2.64163517e-01,  1.41731626e+01, -2.78321780e+01,  1.83522727e+01,\n",
       "        1.66713868e+01,  5.55336578e+00, -3.39557772e+01,  1.38294498e+01,\n",
       "        1.21980034e+00, -2.12176599e+00,  1.86025691e+01, -2.17179258e+01,\n",
       "        8.42623892e+00,  1.32683520e+01,  6.05892000e-03,  1.81660828e+01,\n",
       "        3.65497347e+00, -1.49215417e+01, -3.26253202e+00,  1.07215901e+00,\n",
       "        5.06787345e+00, -7.53733400e+00,  1.35435432e+01,  1.54554168e+01,\n",
       "        8.44556235e+00, -9.51726723e+00, -1.66670010e+00, -1.67632267e+01,\n",
       "       -9.01399162e+00,  4.64093373e+00, -3.73537613e+00,  1.05931768e+01,\n",
       "       -1.00073952e+01, -1.60176730e+01, -2.20556308e+01, -2.14252823e+01,\n",
       "       -2.01635637e+00,  1.87862462e+01, -1.06469476e+01,  9.95204158e-01,\n",
       "       -7.33601297e+00,  3.76540238e+00, -5.31421540e+00,  2.87032083e+01,\n",
       "        4.38800203e+00, -3.21300537e+00, -2.74402660e+01, -2.67725878e+01,\n",
       "       -2.21621877e+01, -9.80979417e+00, -2.71189202e+01,  4.58525313e+00])"
      ]
     },
     "execution_count": 155,
     "metadata": {},
     "output_type": "execute_result"
    }
   ],
   "source": [
    "cluster_mean[1]\n",
    "# X[cluster_dict[28][1]]"
   ]
  },
  {
   "cell_type": "code",
   "execution_count": 157,
   "id": "c2d9f713",
   "metadata": {},
   "outputs": [
    {
     "data": {
      "text/plain": [
       "[(307.1853587410614, 6, 0),\n",
       " (212.60363534409066, 6, 1),\n",
       " (260.5988962890892, 6, 2),\n",
       " (231.53226946061406, 6, 3),\n",
       " (310.32002759949495, 6, 4),\n",
       " (277.86619332198734, 6, 5),\n",
       " (259.848320022914, 6, 7)]"
      ]
     },
     "execution_count": 157,
     "metadata": {},
     "output_type": "execute_result"
    }
   ],
   "source": [
    "from scipy.spatial import distance\n",
    "cluster_distance = []\n",
    "for i in range(totalcluster):\n",
    "    if i == outlier_cluster[0]:\n",
    "        continue\n",
    "    cluster_distance.append((distance.euclidean(cluster_mean[outlier_cluster[0]], cluster_mean[i]),outlier_cluster[0], i))\n",
    "cluster_distance"
   ]
  },
  {
   "cell_type": "code",
   "execution_count": 158,
   "id": "6ea82684",
   "metadata": {},
   "outputs": [
    {
     "data": {
      "text/plain": [
       "[(212.60363534409066, 6, 1),\n",
       " (231.53226946061406, 6, 3),\n",
       " (259.848320022914, 6, 7),\n",
       " (260.5988962890892, 6, 2),\n",
       " (277.86619332198734, 6, 5)]"
      ]
     },
     "execution_count": 158,
     "metadata": {},
     "output_type": "execute_result"
    }
   ],
   "source": [
    "cluster_distance.sort(key=lambda y: y[0])\n",
    "cluster_distance = cluster_distance[:5]\n",
    "cluster_distance"
   ]
  },
  {
   "cell_type": "code",
   "execution_count": 192,
   "id": "c17c9498",
   "metadata": {},
   "outputs": [
    {
     "ename": "SyntaxError",
     "evalue": "invalid syntax (Temp/ipykernel_9512/2620215235.py, line 11)",
     "output_type": "error",
     "traceback": [
      "\u001b[1;36m  File \u001b[1;32m\"C:\\Users\\nn\\AppData\\Local\\Temp/ipykernel_9512/2620215235.py\"\u001b[1;36m, line \u001b[1;32m11\u001b[0m\n\u001b[1;33m    if cos_dist >= .5 dist  >=  closestDistance * 0.8 :\u001b[0m\n\u001b[1;37m                      ^\u001b[0m\n\u001b[1;31mSyntaxError\u001b[0m\u001b[1;31m:\u001b[0m invalid syntax\n"
     ]
    }
   ],
   "source": [
    "  def findCandidateClusters(k_nearest_cluster):\n",
    "    closestCluster = k_nearest_cluster[0][2]\n",
    "    closestDistance = k_nearest_cluster[0][0]\n",
    "    candidateCluster = []\n",
    "    candidateCluster.append(k_nearest_cluster[0])\n",
    "    for j in k_nearest_cluster:\n",
    "        #if j == 0: continue\n",
    "        dist = distance.euclidean(cluster_mean[closestCluster],cluster_mean[j[2]])\n",
    "        cos_dist = distance.cosine(cluster_mean[closestCluster],cluster_mean[j[2]])\n",
    "        print(dist)\n",
    "        if cos_dist >= .5 and dist  >=  closestDistance * 0.8 :\n",
    "            candidateCluster.append(j)\n",
    "    return  candidateCluster   "
   ]
  },
  {
   "cell_type": "code",
   "execution_count": 193,
   "id": "bcd48d81",
   "metadata": {},
   "outputs": [
    {
     "name": "stdout",
     "output_type": "stream",
     "text": [
      "0.0\n",
      "192.75210713511004\n",
      "209.64407000822777\n",
      "140.3872343230148\n",
      "119.35746157997109\n"
     ]
    },
    {
     "data": {
      "text/plain": [
       "[(212.60363534409066, 6, 1),\n",
       " (231.53226946061406, 6, 3),\n",
       " (259.848320022914, 6, 7)]"
      ]
     },
     "execution_count": 193,
     "metadata": {},
     "output_type": "execute_result"
    }
   ],
   "source": [
    "neighborCluster = findCandidateClusters(cluster_distance)\n",
    "neighborCluster"
   ]
  },
  {
   "cell_type": "code",
   "execution_count": 146,
   "id": "f233be12",
   "metadata": {},
   "outputs": [
    {
     "data": {
      "text/plain": [
       "(2, 1, 3, 5, 0)"
      ]
     },
     "execution_count": 146,
     "metadata": {},
     "output_type": "execute_result"
    }
   ],
   "source": [
    "k_nearest_cluster = list(zip(*cluster_distance[:5]))[2]\n",
    "k_nearest_cluster"
   ]
  },
  {
   "cell_type": "code",
   "execution_count": 130,
   "id": "72375380",
   "metadata": {},
   "outputs": [],
   "source": [
    "def findNearestObjectOfClusters(k_nearest_cluster):\n",
    "    distance_all_cluster = []\n",
    "    nearestObjects = []\n",
    "    object_distance = []\n",
    "    for j in range(len(k_nearest_cluster)):\n",
    "        for i in range(len(cluster_dict[k_nearest_cluster[j]])):\n",
    "            object_distance.append((distance.euclidean(cluster_mean[outlier_cluster[0]], X.iloc[cluster_dict[k_nearest_cluster[j]][i]]),outlier_cluster[0], k_nearest_cluster[j],  cluster_dict[k_nearest_cluster[j]][i]))\n",
    "        #distance_all_cluster.append(object_distance)\n",
    "        nearestObjects.append(min(object_distance, key=lambda tup: tup[0]))\n",
    "        object_distance = []\n",
    "    return  nearestObjects   "
   ]
  },
  {
   "cell_type": "code",
   "execution_count": 131,
   "id": "ee12ed6d",
   "metadata": {},
   "outputs": [
    {
     "data": {
      "text/plain": [
       "[(115.90244007756108, 3, 2, 45),\n",
       " (148.28105134572675, 3, 0, 38),\n",
       " (174.32633878056947, 3, 1, 36),\n",
       " (178.3772206829394, 3, 5, 86),\n",
       " (212.29036654122922, 3, 7, 19)]"
      ]
     },
     "execution_count": 131,
     "metadata": {},
     "output_type": "execute_result"
    }
   ],
   "source": [
    "nearestObjects = findNearestObjectOfClusters(k_nearest_cluster)\n",
    "nearestObjects.sort(key=lambda y: y[0])\n",
    "nearestObjects"
   ]
  },
  {
   "cell_type": "code",
   "execution_count": 132,
   "id": "5d48f358",
   "metadata": {},
   "outputs": [
    {
     "data": {
      "text/plain": [
       "1.0132885326362253"
      ]
     },
     "execution_count": 132,
     "metadata": {},
     "output_type": "execute_result"
    }
   ],
   "source": [
    "from scipy.spatial import distance\n",
    "distance.cosine(X[1], X[28])"
   ]
  },
  {
   "cell_type": "code",
   "execution_count": 135,
   "id": "bf80eb4b",
   "metadata": {},
   "outputs": [],
   "source": [
    "def findCandidateObjectOfClusters(k_nearest_objects):\n",
    "    closestObject = k_nearest_objects[0][3]\n",
    "    closestDistance = k_nearest_objects[0][0]\n",
    "    candidateObjects = []\n",
    "    candidateObjects.append(k_nearest_objects[0])\n",
    "    for j in range(len(k_nearest_objects)):\n",
    "        #if j == 0: continue\n",
    "        dist = distance.euclidean(X.iloc[closestObject], X.iloc[k_nearest_objects[j][3]])\n",
    "        cos_dist = distance.cosine(X.iloc[closestObject], X.iloc[k_nearest_objects[j][3]])\n",
    "        print(dist)\n",
    "        if cos_dist >= .6 and dist  >=  closestDistance*.8 :\n",
    "            candidateObjects.append(k_nearest_objects[j])\n",
    "    return  candidateObjects   "
   ]
  },
  {
   "cell_type": "code",
   "execution_count": 136,
   "id": "e9464a6c",
   "metadata": {},
   "outputs": [
    {
     "name": "stdout",
     "output_type": "stream",
     "text": [
      "0.0\n",
      "106.90534210536441\n",
      "142.58434123481285\n",
      "124.16787143708244\n",
      "158.33294692920447\n"
     ]
    },
    {
     "data": {
      "text/plain": [
       "[(115.90244007756108, 3, 2, 45)]"
      ]
     },
     "execution_count": 136,
     "metadata": {},
     "output_type": "execute_result"
    }
   ],
   "source": [
    "neighborObjects = findCandidateObjectOfClusters(nearestObjects)\n",
    "neighborObjects"
   ]
  },
  {
   "cell_type": "code",
   "execution_count": null,
   "id": "74558e11",
   "metadata": {},
   "outputs": [],
   "source": []
  },
  {
   "cell_type": "code",
   "execution_count": null,
   "id": "e360a23a",
   "metadata": {},
   "outputs": [],
   "source": []
  }
 ],
 "metadata": {
  "kernelspec": {
   "display_name": "Python 3 (ipykernel)",
   "language": "python",
   "name": "python3"
  },
  "language_info": {
   "codemirror_mode": {
    "name": "ipython",
    "version": 3
   },
   "file_extension": ".py",
   "mimetype": "text/x-python",
   "name": "python",
   "nbconvert_exporter": "python",
   "pygments_lexer": "ipython3",
   "version": "3.9.7"
  }
 },
 "nbformat": 4,
 "nbformat_minor": 5
}
