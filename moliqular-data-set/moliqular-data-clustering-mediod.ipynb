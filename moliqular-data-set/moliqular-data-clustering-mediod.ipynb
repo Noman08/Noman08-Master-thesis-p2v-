{
 "cells": [
  {
   "cell_type": "code",
   "execution_count": 1,
   "id": "1d90a248",
   "metadata": {},
   "outputs": [],
   "source": [
    "import pandas as pd\n",
    "import numpy as np\n",
    "\n",
    "\n"
   ]
  },
  {
   "cell_type": "code",
   "execution_count": 2,
   "id": "ecafbdae",
   "metadata": {},
   "outputs": [
    {
     "data": {
      "text/html": [
       "<div>\n",
       "<style scoped>\n",
       "    .dataframe tbody tr th:only-of-type {\n",
       "        vertical-align: middle;\n",
       "    }\n",
       "\n",
       "    .dataframe tbody tr th {\n",
       "        vertical-align: top;\n",
       "    }\n",
       "\n",
       "    .dataframe thead th {\n",
       "        text-align: right;\n",
       "    }\n",
       "</style>\n",
       "<table border=\"1\" class=\"dataframe\">\n",
       "  <thead>\n",
       "    <tr style=\"text-align: right;\">\n",
       "      <th></th>\n",
       "      <th>0</th>\n",
       "      <th>1</th>\n",
       "      <th>2</th>\n",
       "      <th>3</th>\n",
       "      <th>4</th>\n",
       "      <th>5</th>\n",
       "      <th>6</th>\n",
       "      <th>7</th>\n",
       "      <th>8</th>\n",
       "      <th>9</th>\n",
       "      <th>...</th>\n",
       "      <th>290</th>\n",
       "      <th>291</th>\n",
       "      <th>292</th>\n",
       "      <th>293</th>\n",
       "      <th>294</th>\n",
       "      <th>295</th>\n",
       "      <th>296</th>\n",
       "      <th>297</th>\n",
       "      <th>298</th>\n",
       "      <th>299</th>\n",
       "    </tr>\n",
       "  </thead>\n",
       "  <tbody>\n",
       "    <tr>\n",
       "      <th>0</th>\n",
       "      <td>4.380573</td>\n",
       "      <td>-3.762141</td>\n",
       "      <td>-4.292756</td>\n",
       "      <td>7.175021</td>\n",
       "      <td>-0.381252</td>\n",
       "      <td>0.976608</td>\n",
       "      <td>-11.767803</td>\n",
       "      <td>-0.974412</td>\n",
       "      <td>6.000600</td>\n",
       "      <td>4.144257</td>\n",
       "      <td>...</td>\n",
       "      <td>-2.370787</td>\n",
       "      <td>8.558210</td>\n",
       "      <td>13.280169</td>\n",
       "      <td>-3.033208</td>\n",
       "      <td>-9.818228</td>\n",
       "      <td>-2.494200</td>\n",
       "      <td>-5.174267</td>\n",
       "      <td>-7.776530</td>\n",
       "      <td>-12.377538</td>\n",
       "      <td>-3.860251</td>\n",
       "    </tr>\n",
       "    <tr>\n",
       "      <th>1</th>\n",
       "      <td>1.615402</td>\n",
       "      <td>-1.541404</td>\n",
       "      <td>-4.348377</td>\n",
       "      <td>6.987983</td>\n",
       "      <td>0.299455</td>\n",
       "      <td>1.230945</td>\n",
       "      <td>-10.948531</td>\n",
       "      <td>-1.373381</td>\n",
       "      <td>5.657287</td>\n",
       "      <td>2.931703</td>\n",
       "      <td>...</td>\n",
       "      <td>-1.994228</td>\n",
       "      <td>9.442633</td>\n",
       "      <td>10.524706</td>\n",
       "      <td>0.331448</td>\n",
       "      <td>-6.053142</td>\n",
       "      <td>-4.214556</td>\n",
       "      <td>-4.721151</td>\n",
       "      <td>-3.716502</td>\n",
       "      <td>-10.301792</td>\n",
       "      <td>-2.658725</td>\n",
       "    </tr>\n",
       "    <tr>\n",
       "      <th>2</th>\n",
       "      <td>2.932339</td>\n",
       "      <td>-7.716344</td>\n",
       "      <td>-3.182016</td>\n",
       "      <td>7.748101</td>\n",
       "      <td>-0.264600</td>\n",
       "      <td>-6.312595</td>\n",
       "      <td>-12.179543</td>\n",
       "      <td>3.003592</td>\n",
       "      <td>6.034258</td>\n",
       "      <td>-0.045739</td>\n",
       "      <td>...</td>\n",
       "      <td>1.003647</td>\n",
       "      <td>19.094015</td>\n",
       "      <td>4.134118</td>\n",
       "      <td>-3.085243</td>\n",
       "      <td>-12.679811</td>\n",
       "      <td>-11.601875</td>\n",
       "      <td>-12.829510</td>\n",
       "      <td>-5.927757</td>\n",
       "      <td>-16.574290</td>\n",
       "      <td>-1.992269</td>\n",
       "    </tr>\n",
       "    <tr>\n",
       "      <th>3</th>\n",
       "      <td>5.131956</td>\n",
       "      <td>-6.563405</td>\n",
       "      <td>-4.055224</td>\n",
       "      <td>11.589682</td>\n",
       "      <td>-0.478878</td>\n",
       "      <td>0.014867</td>\n",
       "      <td>-14.216432</td>\n",
       "      <td>2.010095</td>\n",
       "      <td>6.770205</td>\n",
       "      <td>2.611487</td>\n",
       "      <td>...</td>\n",
       "      <td>-0.821905</td>\n",
       "      <td>15.553152</td>\n",
       "      <td>11.399011</td>\n",
       "      <td>-2.848635</td>\n",
       "      <td>-13.176079</td>\n",
       "      <td>-4.725287</td>\n",
       "      <td>-7.367418</td>\n",
       "      <td>-4.595629</td>\n",
       "      <td>-13.327709</td>\n",
       "      <td>-1.551819</td>\n",
       "    </tr>\n",
       "    <tr>\n",
       "      <th>4</th>\n",
       "      <td>6.800557</td>\n",
       "      <td>-11.533808</td>\n",
       "      <td>-4.012169</td>\n",
       "      <td>8.921095</td>\n",
       "      <td>-0.420214</td>\n",
       "      <td>1.243108</td>\n",
       "      <td>-13.871548</td>\n",
       "      <td>1.394891</td>\n",
       "      <td>4.261621</td>\n",
       "      <td>2.827230</td>\n",
       "      <td>...</td>\n",
       "      <td>-0.684297</td>\n",
       "      <td>18.718319</td>\n",
       "      <td>10.337213</td>\n",
       "      <td>-4.931649</td>\n",
       "      <td>-15.422070</td>\n",
       "      <td>-7.565075</td>\n",
       "      <td>-13.145890</td>\n",
       "      <td>-6.969938</td>\n",
       "      <td>-14.078060</td>\n",
       "      <td>-1.784664</td>\n",
       "    </tr>\n",
       "    <tr>\n",
       "      <th>...</th>\n",
       "      <td>...</td>\n",
       "      <td>...</td>\n",
       "      <td>...</td>\n",
       "      <td>...</td>\n",
       "      <td>...</td>\n",
       "      <td>...</td>\n",
       "      <td>...</td>\n",
       "      <td>...</td>\n",
       "      <td>...</td>\n",
       "      <td>...</td>\n",
       "      <td>...</td>\n",
       "      <td>...</td>\n",
       "      <td>...</td>\n",
       "      <td>...</td>\n",
       "      <td>...</td>\n",
       "      <td>...</td>\n",
       "      <td>...</td>\n",
       "      <td>...</td>\n",
       "      <td>...</td>\n",
       "      <td>...</td>\n",
       "      <td>...</td>\n",
       "    </tr>\n",
       "    <tr>\n",
       "      <th>95</th>\n",
       "      <td>-0.441916</td>\n",
       "      <td>-4.973157</td>\n",
       "      <td>-4.733602</td>\n",
       "      <td>9.860046</td>\n",
       "      <td>2.756126</td>\n",
       "      <td>-2.121817</td>\n",
       "      <td>-21.537058</td>\n",
       "      <td>-2.996042</td>\n",
       "      <td>20.696896</td>\n",
       "      <td>2.084675</td>\n",
       "      <td>...</td>\n",
       "      <td>-0.025214</td>\n",
       "      <td>15.707182</td>\n",
       "      <td>15.725436</td>\n",
       "      <td>4.154243</td>\n",
       "      <td>-14.739864</td>\n",
       "      <td>-7.011128</td>\n",
       "      <td>-3.258594</td>\n",
       "      <td>-12.077540</td>\n",
       "      <td>-18.537350</td>\n",
       "      <td>-2.052970</td>\n",
       "    </tr>\n",
       "    <tr>\n",
       "      <th>96</th>\n",
       "      <td>3.544500</td>\n",
       "      <td>-5.088700</td>\n",
       "      <td>-3.315926</td>\n",
       "      <td>5.468853</td>\n",
       "      <td>0.521531</td>\n",
       "      <td>-0.821191</td>\n",
       "      <td>-12.729947</td>\n",
       "      <td>2.851914</td>\n",
       "      <td>5.488653</td>\n",
       "      <td>5.070152</td>\n",
       "      <td>...</td>\n",
       "      <td>-0.503847</td>\n",
       "      <td>12.866527</td>\n",
       "      <td>10.566926</td>\n",
       "      <td>-1.296119</td>\n",
       "      <td>-13.432643</td>\n",
       "      <td>-2.631300</td>\n",
       "      <td>-7.870134</td>\n",
       "      <td>-4.082045</td>\n",
       "      <td>-11.629880</td>\n",
       "      <td>-2.839345</td>\n",
       "    </tr>\n",
       "    <tr>\n",
       "      <th>97</th>\n",
       "      <td>-0.657536</td>\n",
       "      <td>-6.038743</td>\n",
       "      <td>-4.080045</td>\n",
       "      <td>1.496104</td>\n",
       "      <td>-2.566030</td>\n",
       "      <td>-9.290892</td>\n",
       "      <td>-12.894241</td>\n",
       "      <td>5.227246</td>\n",
       "      <td>1.706130</td>\n",
       "      <td>-1.796737</td>\n",
       "      <td>...</td>\n",
       "      <td>0.597375</td>\n",
       "      <td>18.570280</td>\n",
       "      <td>1.054108</td>\n",
       "      <td>-1.362014</td>\n",
       "      <td>-12.475961</td>\n",
       "      <td>-11.631438</td>\n",
       "      <td>-14.153132</td>\n",
       "      <td>-1.452089</td>\n",
       "      <td>-12.894324</td>\n",
       "      <td>3.297095</td>\n",
       "    </tr>\n",
       "    <tr>\n",
       "      <th>98</th>\n",
       "      <td>0.438703</td>\n",
       "      <td>-2.610365</td>\n",
       "      <td>0.897654</td>\n",
       "      <td>0.796714</td>\n",
       "      <td>2.445454</td>\n",
       "      <td>0.709119</td>\n",
       "      <td>-4.709922</td>\n",
       "      <td>-0.176891</td>\n",
       "      <td>1.258019</td>\n",
       "      <td>-1.755155</td>\n",
       "      <td>...</td>\n",
       "      <td>0.857213</td>\n",
       "      <td>3.944325</td>\n",
       "      <td>2.380118</td>\n",
       "      <td>0.498039</td>\n",
       "      <td>-4.583952</td>\n",
       "      <td>0.036167</td>\n",
       "      <td>-1.158296</td>\n",
       "      <td>-4.024033</td>\n",
       "      <td>-4.054891</td>\n",
       "      <td>-2.484290</td>\n",
       "    </tr>\n",
       "    <tr>\n",
       "      <th>99</th>\n",
       "      <td>-7.626022</td>\n",
       "      <td>-4.128572</td>\n",
       "      <td>1.131209</td>\n",
       "      <td>-7.453210</td>\n",
       "      <td>17.592012</td>\n",
       "      <td>-1.980523</td>\n",
       "      <td>-25.096424</td>\n",
       "      <td>-6.670262</td>\n",
       "      <td>22.678345</td>\n",
       "      <td>-7.230431</td>\n",
       "      <td>...</td>\n",
       "      <td>1.878080</td>\n",
       "      <td>14.324747</td>\n",
       "      <td>24.905655</td>\n",
       "      <td>13.283847</td>\n",
       "      <td>-16.328968</td>\n",
       "      <td>-3.612324</td>\n",
       "      <td>0.018755</td>\n",
       "      <td>-24.570198</td>\n",
       "      <td>-25.178297</td>\n",
       "      <td>-7.857099</td>\n",
       "    </tr>\n",
       "  </tbody>\n",
       "</table>\n",
       "<p>100 rows × 300 columns</p>\n",
       "</div>"
      ],
      "text/plain": [
       "         0          1         2          3          4         5          6    \\\n",
       "0   4.380573  -3.762141 -4.292756   7.175021  -0.381252  0.976608 -11.767803   \n",
       "1   1.615402  -1.541404 -4.348377   6.987983   0.299455  1.230945 -10.948531   \n",
       "2   2.932339  -7.716344 -3.182016   7.748101  -0.264600 -6.312595 -12.179543   \n",
       "3   5.131956  -6.563405 -4.055224  11.589682  -0.478878  0.014867 -14.216432   \n",
       "4   6.800557 -11.533808 -4.012169   8.921095  -0.420214  1.243108 -13.871548   \n",
       "..       ...        ...       ...        ...        ...       ...        ...   \n",
       "95 -0.441916  -4.973157 -4.733602   9.860046   2.756126 -2.121817 -21.537058   \n",
       "96  3.544500  -5.088700 -3.315926   5.468853   0.521531 -0.821191 -12.729947   \n",
       "97 -0.657536  -6.038743 -4.080045   1.496104  -2.566030 -9.290892 -12.894241   \n",
       "98  0.438703  -2.610365  0.897654   0.796714   2.445454  0.709119  -4.709922   \n",
       "99 -7.626022  -4.128572  1.131209  -7.453210  17.592012 -1.980523 -25.096424   \n",
       "\n",
       "         7          8         9    ...       290        291        292  \\\n",
       "0  -0.974412   6.000600  4.144257  ... -2.370787   8.558210  13.280169   \n",
       "1  -1.373381   5.657287  2.931703  ... -1.994228   9.442633  10.524706   \n",
       "2   3.003592   6.034258 -0.045739  ...  1.003647  19.094015   4.134118   \n",
       "3   2.010095   6.770205  2.611487  ... -0.821905  15.553152  11.399011   \n",
       "4   1.394891   4.261621  2.827230  ... -0.684297  18.718319  10.337213   \n",
       "..       ...        ...       ...  ...       ...        ...        ...   \n",
       "95 -2.996042  20.696896  2.084675  ... -0.025214  15.707182  15.725436   \n",
       "96  2.851914   5.488653  5.070152  ... -0.503847  12.866527  10.566926   \n",
       "97  5.227246   1.706130 -1.796737  ...  0.597375  18.570280   1.054108   \n",
       "98 -0.176891   1.258019 -1.755155  ...  0.857213   3.944325   2.380118   \n",
       "99 -6.670262  22.678345 -7.230431  ...  1.878080  14.324747  24.905655   \n",
       "\n",
       "          293        294        295        296        297        298       299  \n",
       "0   -3.033208  -9.818228  -2.494200  -5.174267  -7.776530 -12.377538 -3.860251  \n",
       "1    0.331448  -6.053142  -4.214556  -4.721151  -3.716502 -10.301792 -2.658725  \n",
       "2   -3.085243 -12.679811 -11.601875 -12.829510  -5.927757 -16.574290 -1.992269  \n",
       "3   -2.848635 -13.176079  -4.725287  -7.367418  -4.595629 -13.327709 -1.551819  \n",
       "4   -4.931649 -15.422070  -7.565075 -13.145890  -6.969938 -14.078060 -1.784664  \n",
       "..        ...        ...        ...        ...        ...        ...       ...  \n",
       "95   4.154243 -14.739864  -7.011128  -3.258594 -12.077540 -18.537350 -2.052970  \n",
       "96  -1.296119 -13.432643  -2.631300  -7.870134  -4.082045 -11.629880 -2.839345  \n",
       "97  -1.362014 -12.475961 -11.631438 -14.153132  -1.452089 -12.894324  3.297095  \n",
       "98   0.498039  -4.583952   0.036167  -1.158296  -4.024033  -4.054891 -2.484290  \n",
       "99  13.283847 -16.328968  -3.612324   0.018755 -24.570198 -25.178297 -7.857099  \n",
       "\n",
       "[100 rows x 300 columns]"
      ]
     },
     "execution_count": 2,
     "metadata": {},
     "output_type": "execute_result"
    }
   ],
   "source": [
    "df = pd.read_csv('cov2vect.csv', header = None)\n",
    "X = df\n",
    "X"
   ]
  },
  {
   "cell_type": "code",
   "execution_count": 3,
   "id": "4c4d9ffa",
   "metadata": {},
   "outputs": [],
   "source": [
    "import numpy as np\n",
    "\n",
    "from matplotlib import pyplot as plt\n",
    "from scipy.cluster.hierarchy import dendrogram\n",
    "from sklearn.cluster import AgglomerativeClustering\n",
    "\n",
    "\n",
    "def plot_dendrogram(model, **kwargs):\n",
    "    # Create linkage matrix and then plot the dendrogram\n",
    "\n",
    "    # create the counts of samples under each node\n",
    "    counts = np.zeros(model.children_.shape[0])\n",
    "    n_samples = len(model.labels_)\n",
    "    for i, merge in enumerate(model.children_):\n",
    "        current_count = 0\n",
    "        for child_idx in merge:\n",
    "            if child_idx < n_samples:\n",
    "                current_count += 1  # leaf node\n",
    "            else:\n",
    "                current_count += counts[child_idx - n_samples]\n",
    "        counts[i] = current_count\n",
    "\n",
    "    linkage_matrix = np.column_stack(\n",
    "        [model.children_, model.distances_, counts]\n",
    "    ).astype(float)\n",
    "\n",
    "    # Plot the corresponding dendrogram\n",
    "    dendrogram(linkage_matrix, **kwargs)\n",
    "\n",
    "\n",
    "\n",
    "\n",
    "# setting distance_threshold=0 ensures we compute the full tree.\n",
    "model1 = AgglomerativeClustering(distance_threshold=0, n_clusters=None)\n",
    "\n",
    "model1 = model1.fit(df)\n"
   ]
  },
  {
   "cell_type": "code",
   "execution_count": 4,
   "id": "858bed77",
   "metadata": {},
   "outputs": [
    {
     "data": {
      "image/png": "[encoded data removed]",
      "text/plain": [
       "<Figure size 432x288 with 1 Axes>"
      ]
     },
     "metadata": {
      "needs_background": "light"
     },
     "output_type": "display_data"
    }
   ],
   "source": [
    "plt.title(\"Hierarchical Clustering Dendrogram\")\n",
    "# plot the top three levels of the dendrogram\n",
    "plot_dendrogram(model1, truncate_mode=\"level\", p=5)\n",
    "plt.xlabel(\"Number of points in node (or index of point if no parenthesis).\")\n",
    "plt.show()"
   ]
  },
  {
   "cell_type": "code",
   "execution_count": 5,
   "id": "da8c742b",
   "metadata": {},
   "outputs": [],
   "source": [
    "# setting distance_threshold=0 ensures we compute the full tree.\n",
    "model1 = AgglomerativeClustering(distance_threshold=150, n_clusters=None)\n",
    "\n",
    "model1 = model1.fit(df)"
   ]
  },
  {
   "cell_type": "code",
   "execution_count": 6,
   "id": "5cc0ee72",
   "metadata": {},
   "outputs": [
    {
     "data": {
      "text/plain": [
       "10"
      ]
     },
     "execution_count": 6,
     "metadata": {},
     "output_type": "execute_result"
    }
   ],
   "source": [
    "labels = model1.labels_.tolist()\n",
    "nocluster = set(labels)\n",
    "totalcluster = len(nocluster)\n",
    "totalcluster"
   ]
  },
  {
   "cell_type": "code",
   "execution_count": 7,
   "id": "234fd0ef",
   "metadata": {},
   "outputs": [],
   "source": [
    "cluster_dict = {}\n",
    "\n",
    "i = 0\n",
    "for i in range(len(labels)):\n",
    "    if labels[i] not in cluster_dict.keys():\n",
    "         cluster_dict[labels[i]] = [i]\n",
    "    else:\n",
    "          cluster_dict[labels[i]].append(i)\n",
    "    i+=1"
   ]
  },
  {
   "cell_type": "code",
   "execution_count": 8,
   "id": "7d356018",
   "metadata": {
    "scrolled": true
   },
   "outputs": [
    {
     "name": "stdout",
     "output_type": "stream",
     "text": [
      "6\n",
      "14\n",
      "47\n",
      "15\n",
      "6\n",
      "6\n",
      "3\n",
      "1\n",
      "1\n",
      "1\n"
     ]
    }
   ],
   "source": [
    "for i in range(totalcluster):\n",
    "    print(len(cluster_dict[i]))"
   ]
  },
  {
   "cell_type": "code",
   "execution_count": 9,
   "id": "0abaa3ef",
   "metadata": {},
   "outputs": [
    {
     "name": "stdout",
     "output_type": "stream",
     "text": [
      "[7, 8, 9]\n"
     ]
    }
   ],
   "source": [
    "outlier_cluster = []\n",
    "for i in range(totalcluster):\n",
    "    if len(cluster_dict[i]) == 1:\n",
    "        outlier_cluster.append(i)\n",
    "    \n",
    "print(outlier_cluster)"
   ]
  },
  {
   "cell_type": "code",
   "execution_count": 10,
   "id": "258c43f2",
   "metadata": {},
   "outputs": [
    {
     "data": {
      "text/plain": [
       "[19]"
      ]
     },
     "execution_count": 10,
     "metadata": {},
     "output_type": "execute_result"
    }
   ],
   "source": [
    "cluster_dict[outlier_cluster[0]]"
   ]
  },
  {
   "cell_type": "code",
   "execution_count": 11,
   "id": "27e7e5fc",
   "metadata": {},
   "outputs": [
    {
     "data": {
      "text/html": [
       "<div>\n",
       "<style scoped>\n",
       "    .dataframe tbody tr th:only-of-type {\n",
       "        vertical-align: middle;\n",
       "    }\n",
       "\n",
       "    .dataframe tbody tr th {\n",
       "        vertical-align: top;\n",
       "    }\n",
       "\n",
       "    .dataframe thead th {\n",
       "        text-align: right;\n",
       "    }\n",
       "</style>\n",
       "<table border=\"1\" class=\"dataframe\">\n",
       "  <thead>\n",
       "    <tr style=\"text-align: right;\">\n",
       "      <th></th>\n",
       "      <th>0</th>\n",
       "      <th>1</th>\n",
       "      <th>2</th>\n",
       "      <th>3</th>\n",
       "      <th>4</th>\n",
       "      <th>5</th>\n",
       "      <th>6</th>\n",
       "      <th>7</th>\n",
       "      <th>8</th>\n",
       "      <th>9</th>\n",
       "      <th>...</th>\n",
       "      <th>290</th>\n",
       "      <th>291</th>\n",
       "      <th>292</th>\n",
       "      <th>293</th>\n",
       "      <th>294</th>\n",
       "      <th>295</th>\n",
       "      <th>296</th>\n",
       "      <th>297</th>\n",
       "      <th>298</th>\n",
       "      <th>299</th>\n",
       "    </tr>\n",
       "  </thead>\n",
       "  <tbody>\n",
       "    <tr>\n",
       "      <th>19</th>\n",
       "      <td>10.360203</td>\n",
       "      <td>-5.154559</td>\n",
       "      <td>-13.450405</td>\n",
       "      <td>12.824697</td>\n",
       "      <td>6.553541</td>\n",
       "      <td>7.652467</td>\n",
       "      <td>-33.689976</td>\n",
       "      <td>6.353319</td>\n",
       "      <td>21.949818</td>\n",
       "      <td>18.320559</td>\n",
       "      <td>...</td>\n",
       "      <td>-3.240406</td>\n",
       "      <td>26.223087</td>\n",
       "      <td>30.0981</td>\n",
       "      <td>-3.765019</td>\n",
       "      <td>-21.085533</td>\n",
       "      <td>-7.701087</td>\n",
       "      <td>-25.944626</td>\n",
       "      <td>-2.969079</td>\n",
       "      <td>-27.694382</td>\n",
       "      <td>-4.474064</td>\n",
       "    </tr>\n",
       "  </tbody>\n",
       "</table>\n",
       "<p>1 rows × 300 columns</p>\n",
       "</div>"
      ],
      "text/plain": [
       "          0         1          2          3         4         5          6    \\\n",
       "19  10.360203 -5.154559 -13.450405  12.824697  6.553541  7.652467 -33.689976   \n",
       "\n",
       "         7          8          9    ...       290        291      292  \\\n",
       "19  6.353319  21.949818  18.320559  ... -3.240406  26.223087  30.0981   \n",
       "\n",
       "         293        294       295        296       297        298       299  \n",
       "19 -3.765019 -21.085533 -7.701087 -25.944626 -2.969079 -27.694382 -4.474064  \n",
       "\n",
       "[1 rows x 300 columns]"
      ]
     },
     "execution_count": 11,
     "metadata": {},
     "output_type": "execute_result"
    }
   ],
   "source": [
    "X.iloc[cluster_dict[outlier_cluster[0]]]"
   ]
  },
  {
   "cell_type": "code",
   "execution_count": 12,
   "id": "218a69eb",
   "metadata": {},
   "outputs": [
    {
     "data": {
      "text/html": [
       "<div>\n",
       "<style scoped>\n",
       "    .dataframe tbody tr th:only-of-type {\n",
       "        vertical-align: middle;\n",
       "    }\n",
       "\n",
       "    .dataframe tbody tr th {\n",
       "        vertical-align: top;\n",
       "    }\n",
       "\n",
       "    .dataframe thead th {\n",
       "        text-align: right;\n",
       "    }\n",
       "</style>\n",
       "<table border=\"1\" class=\"dataframe\">\n",
       "  <thead>\n",
       "    <tr style=\"text-align: right;\">\n",
       "      <th></th>\n",
       "      <th>0</th>\n",
       "      <th>1</th>\n",
       "      <th>2</th>\n",
       "      <th>3</th>\n",
       "      <th>4</th>\n",
       "      <th>5</th>\n",
       "      <th>6</th>\n",
       "      <th>7</th>\n",
       "      <th>8</th>\n",
       "      <th>9</th>\n",
       "      <th>...</th>\n",
       "      <th>290</th>\n",
       "      <th>291</th>\n",
       "      <th>292</th>\n",
       "      <th>293</th>\n",
       "      <th>294</th>\n",
       "      <th>295</th>\n",
       "      <th>296</th>\n",
       "      <th>297</th>\n",
       "      <th>298</th>\n",
       "      <th>299</th>\n",
       "    </tr>\n",
       "  </thead>\n",
       "  <tbody>\n",
       "    <tr>\n",
       "      <th>36</th>\n",
       "      <td>-2.842821</td>\n",
       "      <td>-7.283148</td>\n",
       "      <td>-8.195484</td>\n",
       "      <td>-3.361817</td>\n",
       "      <td>-0.170180</td>\n",
       "      <td>-14.048708</td>\n",
       "      <td>-20.615744</td>\n",
       "      <td>5.386586</td>\n",
       "      <td>4.971811</td>\n",
       "      <td>-9.965291</td>\n",
       "      <td>...</td>\n",
       "      <td>-8.207074</td>\n",
       "      <td>22.317694</td>\n",
       "      <td>10.801508</td>\n",
       "      <td>-1.180091</td>\n",
       "      <td>-24.374506</td>\n",
       "      <td>-22.304781</td>\n",
       "      <td>-16.400099</td>\n",
       "      <td>-14.952602</td>\n",
       "      <td>-23.439632</td>\n",
       "      <td>6.850525</td>\n",
       "    </tr>\n",
       "    <tr>\n",
       "      <th>49</th>\n",
       "      <td>-1.510650</td>\n",
       "      <td>-11.853647</td>\n",
       "      <td>-7.792691</td>\n",
       "      <td>-0.410092</td>\n",
       "      <td>1.146943</td>\n",
       "      <td>-13.605926</td>\n",
       "      <td>-15.206273</td>\n",
       "      <td>6.973811</td>\n",
       "      <td>-5.818600</td>\n",
       "      <td>-3.256252</td>\n",
       "      <td>...</td>\n",
       "      <td>-3.170748</td>\n",
       "      <td>23.321602</td>\n",
       "      <td>1.748697</td>\n",
       "      <td>-0.668680</td>\n",
       "      <td>-22.904808</td>\n",
       "      <td>-21.359655</td>\n",
       "      <td>-21.082687</td>\n",
       "      <td>-4.592968</td>\n",
       "      <td>-19.096619</td>\n",
       "      <td>1.815147</td>\n",
       "    </tr>\n",
       "    <tr>\n",
       "      <th>52</th>\n",
       "      <td>-3.133712</td>\n",
       "      <td>-9.604454</td>\n",
       "      <td>-5.200057</td>\n",
       "      <td>-2.700806</td>\n",
       "      <td>-3.944968</td>\n",
       "      <td>-13.415811</td>\n",
       "      <td>-18.491312</td>\n",
       "      <td>5.365893</td>\n",
       "      <td>2.323647</td>\n",
       "      <td>-10.838997</td>\n",
       "      <td>...</td>\n",
       "      <td>-7.698863</td>\n",
       "      <td>22.366323</td>\n",
       "      <td>4.479616</td>\n",
       "      <td>-4.316914</td>\n",
       "      <td>-21.128296</td>\n",
       "      <td>-21.875727</td>\n",
       "      <td>-18.296686</td>\n",
       "      <td>-13.043437</td>\n",
       "      <td>-20.476442</td>\n",
       "      <td>5.980033</td>\n",
       "    </tr>\n",
       "    <tr>\n",
       "      <th>67</th>\n",
       "      <td>2.846437</td>\n",
       "      <td>-16.234081</td>\n",
       "      <td>-12.217618</td>\n",
       "      <td>7.563805</td>\n",
       "      <td>0.290252</td>\n",
       "      <td>-20.288746</td>\n",
       "      <td>-22.412457</td>\n",
       "      <td>7.080382</td>\n",
       "      <td>4.257922</td>\n",
       "      <td>-9.163875</td>\n",
       "      <td>...</td>\n",
       "      <td>-2.827033</td>\n",
       "      <td>35.477215</td>\n",
       "      <td>3.276667</td>\n",
       "      <td>-6.103508</td>\n",
       "      <td>-32.770428</td>\n",
       "      <td>-31.553724</td>\n",
       "      <td>-25.469190</td>\n",
       "      <td>-9.113732</td>\n",
       "      <td>-34.077553</td>\n",
       "      <td>3.121256</td>\n",
       "    </tr>\n",
       "    <tr>\n",
       "      <th>80</th>\n",
       "      <td>3.039348</td>\n",
       "      <td>-18.442986</td>\n",
       "      <td>-14.053578</td>\n",
       "      <td>2.643454</td>\n",
       "      <td>-3.575144</td>\n",
       "      <td>-23.987926</td>\n",
       "      <td>-21.624962</td>\n",
       "      <td>7.949693</td>\n",
       "      <td>-3.601803</td>\n",
       "      <td>-7.911142</td>\n",
       "      <td>...</td>\n",
       "      <td>-5.174691</td>\n",
       "      <td>37.570328</td>\n",
       "      <td>2.690826</td>\n",
       "      <td>-4.951643</td>\n",
       "      <td>-34.910930</td>\n",
       "      <td>-33.956635</td>\n",
       "      <td>-28.261133</td>\n",
       "      <td>-9.394019</td>\n",
       "      <td>-33.380775</td>\n",
       "      <td>3.589008</td>\n",
       "    </tr>\n",
       "    <tr>\n",
       "      <th>93</th>\n",
       "      <td>1.085337</td>\n",
       "      <td>-11.033558</td>\n",
       "      <td>-7.929191</td>\n",
       "      <td>0.874161</td>\n",
       "      <td>-1.540242</td>\n",
       "      <td>-19.029455</td>\n",
       "      <td>-15.999878</td>\n",
       "      <td>5.124501</td>\n",
       "      <td>1.767690</td>\n",
       "      <td>-8.618482</td>\n",
       "      <td>...</td>\n",
       "      <td>-4.806884</td>\n",
       "      <td>31.166088</td>\n",
       "      <td>3.330698</td>\n",
       "      <td>-2.057195</td>\n",
       "      <td>-28.552628</td>\n",
       "      <td>-29.585005</td>\n",
       "      <td>-23.463331</td>\n",
       "      <td>-7.762007</td>\n",
       "      <td>-32.242500</td>\n",
       "      <td>6.155550</td>\n",
       "    </tr>\n",
       "  </tbody>\n",
       "</table>\n",
       "<p>6 rows × 300 columns</p>\n",
       "</div>"
      ],
      "text/plain": [
       "         0          1          2         3         4          5          6    \\\n",
       "36 -2.842821  -7.283148  -8.195484 -3.361817 -0.170180 -14.048708 -20.615744   \n",
       "49 -1.510650 -11.853647  -7.792691 -0.410092  1.146943 -13.605926 -15.206273   \n",
       "52 -3.133712  -9.604454  -5.200057 -2.700806 -3.944968 -13.415811 -18.491312   \n",
       "67  2.846437 -16.234081 -12.217618  7.563805  0.290252 -20.288746 -22.412457   \n",
       "80  3.039348 -18.442986 -14.053578  2.643454 -3.575144 -23.987926 -21.624962   \n",
       "93  1.085337 -11.033558  -7.929191  0.874161 -1.540242 -19.029455 -15.999878   \n",
       "\n",
       "         7         8          9    ...       290        291        292  \\\n",
       "36  5.386586  4.971811  -9.965291  ... -8.207074  22.317694  10.801508   \n",
       "49  6.973811 -5.818600  -3.256252  ... -3.170748  23.321602   1.748697   \n",
       "52  5.365893  2.323647 -10.838997  ... -7.698863  22.366323   4.479616   \n",
       "67  7.080382  4.257922  -9.163875  ... -2.827033  35.477215   3.276667   \n",
       "80  7.949693 -3.601803  -7.911142  ... -5.174691  37.570328   2.690826   \n",
       "93  5.124501  1.767690  -8.618482  ... -4.806884  31.166088   3.330698   \n",
       "\n",
       "         293        294        295        296        297        298       299  \n",
       "36 -1.180091 -24.374506 -22.304781 -16.400099 -14.952602 -23.439632  6.850525  \n",
       "49 -0.668680 -22.904808 -21.359655 -21.082687  -4.592968 -19.096619  1.815147  \n",
       "52 -4.316914 -21.128296 -21.875727 -18.296686 -13.043437 -20.476442  5.980033  \n",
       "67 -6.103508 -32.770428 -31.553724 -25.469190  -9.113732 -34.077553  3.121256  \n",
       "80 -4.951643 -34.910930 -33.956635 -28.261133  -9.394019 -33.380775  3.589008  \n",
       "93 -2.057195 -28.552628 -29.585005 -23.463331  -7.762007 -32.242500  6.155550  \n",
       "\n",
       "[6 rows x 300 columns]"
      ]
     },
     "execution_count": 12,
     "metadata": {},
     "output_type": "execute_result"
    }
   ],
   "source": [
    "X.iloc[cluster_dict[0]]"
   ]
  },
  {
   "cell_type": "code",
   "execution_count": 13,
   "id": "504de4a9",
   "metadata": {},
   "outputs": [
    {
     "data": {
      "text/plain": [
       "(10, 300)"
      ]
     },
     "execution_count": 13,
     "metadata": {},
     "output_type": "execute_result"
    }
   ],
   "source": [
    "cluster_mediod = np.zeros((totalcluster, X.iloc[1].size))\n",
    "cluster_mediod.shape"
   ]
  },
  {
   "cell_type": "code",
   "execution_count": 14,
   "id": "33c81466",
   "metadata": {
    "scrolled": true
   },
   "outputs": [
    {
     "data": {
      "text/html": [
       "<div>\n",
       "<style scoped>\n",
       "    .dataframe tbody tr th:only-of-type {\n",
       "        vertical-align: middle;\n",
       "    }\n",
       "\n",
       "    .dataframe tbody tr th {\n",
       "        vertical-align: top;\n",
       "    }\n",
       "\n",
       "    .dataframe thead th {\n",
       "        text-align: right;\n",
       "    }\n",
       "</style>\n",
       "<table border=\"1\" class=\"dataframe\">\n",
       "  <thead>\n",
       "    <tr style=\"text-align: right;\">\n",
       "      <th></th>\n",
       "      <th>0</th>\n",
       "      <th>1</th>\n",
       "      <th>2</th>\n",
       "      <th>3</th>\n",
       "      <th>4</th>\n",
       "      <th>5</th>\n",
       "      <th>6</th>\n",
       "      <th>7</th>\n",
       "      <th>8</th>\n",
       "      <th>9</th>\n",
       "      <th>...</th>\n",
       "      <th>290</th>\n",
       "      <th>291</th>\n",
       "      <th>292</th>\n",
       "      <th>293</th>\n",
       "      <th>294</th>\n",
       "      <th>295</th>\n",
       "      <th>296</th>\n",
       "      <th>297</th>\n",
       "      <th>298</th>\n",
       "      <th>299</th>\n",
       "    </tr>\n",
       "  </thead>\n",
       "  <tbody>\n",
       "    <tr>\n",
       "      <th>13</th>\n",
       "      <td>2.088764</td>\n",
       "      <td>-44.69806</td>\n",
       "      <td>-30.14236</td>\n",
       "      <td>11.312444</td>\n",
       "      <td>-7.126286</td>\n",
       "      <td>-24.78826</td>\n",
       "      <td>-37.87297</td>\n",
       "      <td>-14.999754</td>\n",
       "      <td>-14.854925</td>\n",
       "      <td>-17.059668</td>\n",
       "      <td>...</td>\n",
       "      <td>-10.313982</td>\n",
       "      <td>56.320908</td>\n",
       "      <td>5.473192</td>\n",
       "      <td>-13.084594</td>\n",
       "      <td>-34.728157</td>\n",
       "      <td>-49.79122</td>\n",
       "      <td>-43.26285</td>\n",
       "      <td>-26.155865</td>\n",
       "      <td>-57.290897</td>\n",
       "      <td>12.116572</td>\n",
       "    </tr>\n",
       "  </tbody>\n",
       "</table>\n",
       "<p>1 rows × 300 columns</p>\n",
       "</div>"
      ],
      "text/plain": [
       "         0         1         2          3         4         5         6    \\\n",
       "13  2.088764 -44.69806 -30.14236  11.312444 -7.126286 -24.78826 -37.87297   \n",
       "\n",
       "          7          8          9    ...        290        291       292  \\\n",
       "13 -14.999754 -14.854925 -17.059668  ... -10.313982  56.320908  5.473192   \n",
       "\n",
       "          293        294       295       296        297        298        299  \n",
       "13 -13.084594 -34.728157 -49.79122 -43.26285 -26.155865 -57.290897  12.116572  \n",
       "\n",
       "[1 rows x 300 columns]"
      ]
     },
     "execution_count": 14,
     "metadata": {},
     "output_type": "execute_result"
    }
   ],
   "source": [
    "X.iloc[cluster_dict[9]]"
   ]
  },
  {
   "cell_type": "code",
   "execution_count": 15,
   "id": "8e014425",
   "metadata": {},
   "outputs": [],
   "source": [
    "from sklearn_extra.cluster import KMedoids\n",
    "cluster_mediod = []\n",
    "\n",
    "GetMedoid = lambda vX: KMedoids(n_clusters=1).fit(vX).cluster_centers_\n",
    "for i in range(totalcluster):\n",
    "    cluster_mediod.append(GetMedoid(X.iloc[cluster_dict[i]])[0])\n"
   ]
  },
  {
   "cell_type": "code",
   "execution_count": 16,
   "id": "c577f7b2",
   "metadata": {},
   "outputs": [
    {
     "data": {
      "text/plain": [
       "0.27896537491585005"
      ]
     },
     "execution_count": 16,
     "metadata": {},
     "output_type": "execute_result"
    }
   ],
   "source": [
    "from scipy.spatial import distance\n",
    "cluster_mediod[1]\n",
    "distance.cosine(cluster_mediod[0],cluster_mediod[2])\n",
    "# distance.cosine(cluster_mid[0], cluster_mid[1])"
   ]
  },
  {
   "cell_type": "code",
   "execution_count": 17,
   "id": "c5a4f77f",
   "metadata": {},
   "outputs": [
    {
     "data": {
      "text/plain": [
       "(300,)"
      ]
     },
     "execution_count": 17,
     "metadata": {},
     "output_type": "execute_result"
    }
   ],
   "source": [
    "X.iloc[1].shape"
   ]
  },
  {
   "cell_type": "code",
   "execution_count": 18,
   "id": "be7a076e",
   "metadata": {},
   "outputs": [
    {
     "data": {
      "image/png": "[encoded data removed]",
      "text/plain": [
       "<PIL.PngImagePlugin.PngImageFile image mode=P size=300x300>"
      ]
     },
     "execution_count": 18,
     "metadata": {},
     "output_type": "execute_result"
    }
   ],
   "source": [
    "from scipy.spatial import distance\n",
    "from PIL import Image\n",
    "import glob\n",
    "image_list = []\n",
    "images_name = []\n",
    "for filename in glob.glob('images/*.png'): #assuming gif\n",
    "    im=Image.open(filename)\n",
    "    images_name.append(filename.split(\"/\")[1])\n",
    "    image_list.append(im)\n",
    "\n",
    "image_list[1]   "
   ]
  },
  {
   "cell_type": "code",
   "execution_count": 19,
   "id": "7efa2933",
   "metadata": {},
   "outputs": [
    {
     "name": "stdout",
     "output_type": "stream",
     "text": [
      "0\n",
      "0.2874134949718493\n",
      "0.27896537491585005\n",
      "0.31160649309816324\n",
      "0.18006838795708002\n",
      "0.09322043976072125\n",
      "0.15860638321584308\n",
      "0.3208553923448223\n",
      "0.3408002450199107\n",
      "0.12391527801698754\n",
      "\n",
      "0.2874134949718493\n",
      "0\n",
      "0.0350583620733812\n",
      "0.1338034867823633\n",
      "0.08416360251623523\n",
      "0.290761369402909\n",
      "0.26293968602482\n",
      "0.09303686925033117\n",
      "0.2891832453307366\n",
      "0.3584794587022446\n",
      "\n",
      "0.27896537491585005\n",
      "0.0350583620733812\n",
      "0\n",
      "0.15357317828983208\n",
      "0.09100992240370676\n",
      "0.2868712804608812\n",
      "0.24132571715973494\n",
      "0.11088522664275002\n",
      "0.2636400598435167\n",
      "0.36816085916385843\n",
      "\n",
      "0.31160649309816324\n",
      "0.1338034867823633\n",
      "0.15357317828983208\n",
      "0\n",
      "0.13579634391573492\n",
      "0.3267418267511142\n",
      "0.22563150383149533\n",
      "0.1523533413132736\n",
      "0.21666755036217988\n",
      "0.3920739739823218\n",
      "\n",
      "0.18006838795708002\n",
      "0.08416360251623523\n",
      "0.09100992240370676\n",
      "0.13579634391573492\n",
      "0\n",
      "0.2171468025056944\n",
      "0.15196215764321264\n",
      "0.1193475064124282\n",
      "0.16057840993076866\n",
      "0.23866486072930637\n",
      "\n",
      "0.09322043976072125\n",
      "0.290761369402909\n",
      "0.2868712804608812\n",
      "0.3267418267511142\n",
      "0.2171468025056944\n",
      "0\n",
      "0.2611399445225724\n",
      "0.3362961787305029\n",
      "0.3636346412606828\n",
      "0.21988623479518166\n",
      "\n",
      "0.15860638321584308\n",
      "0.26293968602482\n",
      "0.24132571715973494\n",
      "0.22563150383149533\n",
      "0.15196215764321264\n",
      "0.2611399445225724\n",
      "0\n",
      "0.28940170310472957\n",
      "0.20988018782447948\n",
      "0.28743886117793316\n",
      "\n",
      "0.3208553923448223\n",
      "0.09303686925033117\n",
      "0.11088522664275002\n",
      "0.1523533413132736\n",
      "0.1193475064124282\n",
      "0.3362961787305029\n",
      "0.28940170310472957\n",
      "0\n",
      "0.30939760092268154\n",
      "0.37897183527491873\n",
      "\n",
      "0.3408002450199107\n",
      "0.2891832453307366\n",
      "0.2636400598435167\n",
      "0.21666755036217988\n",
      "0.16057840993076866\n",
      "0.3636346412606828\n",
      "0.20988018782447948\n",
      "0.30939760092268154\n",
      "0\n",
      "0.3924499431352422\n",
      "\n",
      "0.12391527801698754\n",
      "0.3584794587022446\n",
      "0.36816085916385843\n",
      "0.3920739739823218\n",
      "0.23866486072930637\n",
      "0.21988623479518166\n",
      "0.28743886117793316\n",
      "0.37897183527491873\n",
      "0.3924499431352422\n",
      "0\n",
      "\n"
     ]
    }
   ],
   "source": [
    "from scipy.spatial import distance\n",
    "from PIL import Image\n",
    "import glob\n",
    "image_list = []\n",
    "for filename in glob.glob('images/*.png'): #assuming gif\n",
    "    im=Image.open(filename)\n",
    "    image_list.append(im)\n",
    "for i in range(10):\n",
    "    for j in range(10):\n",
    "        dis = distance.cosine(cluster_mediod[i],cluster_mediod[j])\n",
    "        print(dis)\n",
    "    print('')    \n",
    "    "
   ]
  },
  {
   "cell_type": "code",
   "execution_count": 20,
   "id": "2c3928ce",
   "metadata": {},
   "outputs": [
    {
     "name": "stdout",
     "output_type": "stream",
     "text": [
      "Euclidian distancce, Outlire, Other cluster\n"
     ]
    },
    {
     "data": {
      "text/plain": [
       "[(259.36579453735584, 9, 0),\n",
       " (374.814346404941, 9, 1),\n",
       " (396.980165474639, 9, 2),\n",
       " (419.53114450124144, 9, 3),\n",
       " (347.4301654294664, 9, 4),\n",
       " (360.2892694364936, 9, 5),\n",
       " (317.5795534850043, 9, 6),\n",
       " (348.67858167993404, 9, 7),\n",
       " (354.094607408319, 9, 8)]"
      ]
     },
     "execution_count": 20,
     "metadata": {},
     "output_type": "execute_result"
    }
   ],
   "source": [
    "# outlier need to change here for differnet experiment\n",
    "\n",
    "from scipy.spatial import distance\n",
    "outlier_cluster = outlier_cluster[2]\n",
    "cluster_distance = []\n",
    "for i in range(totalcluster):\n",
    "    if i == outlier_cluster:\n",
    "        continue\n",
    "    cluster_distance.append((distance.euclidean(cluster_mediod[outlier_cluster], cluster_mediod[i]),outlier_cluster, i))\n",
    "print('Euclidian distancce, Outlire, Other cluster')\n",
    "cluster_distance"
   ]
  },
  {
   "cell_type": "code",
   "execution_count": 21,
   "id": "4972daf0",
   "metadata": {},
   "outputs": [
    {
     "data": {
      "image/png": "[encoded data removed]",
      "text/plain": [
       "<PIL.PngImagePlugin.PngImageFile image mode=P size=300x300>"
      ]
     },
     "execution_count": 21,
     "metadata": {},
     "output_type": "execute_result"
    }
   ],
   "source": [
    "image_list[8]\n",
    "image_list[cluster_dict[1][0]]"
   ]
  },
  {
   "cell_type": "code",
   "execution_count": 22,
   "id": "f16b009c",
   "metadata": {},
   "outputs": [
    {
     "data": {
      "image/png": "[encoded data removed]",
      "text/plain": [
       "<PIL.PngImagePlugin.PngImageFile image mode=P size=300x300>"
      ]
     },
     "execution_count": 22,
     "metadata": {},
     "output_type": "execute_result"
    }
   ],
   "source": [
    "image_list[8]\n"
   ]
  },
  {
   "cell_type": "code",
   "execution_count": 23,
   "id": "b3c53737",
   "metadata": {},
   "outputs": [
    {
     "name": "stdout",
     "output_type": "stream",
     "text": [
      "Euclidian distance, Outlire, Other cluster\n"
     ]
    },
    {
     "data": {
      "text/plain": [
       "[(259.36579453735584, 9, 0),\n",
       " (317.5795534850043, 9, 6),\n",
       " (347.4301654294664, 9, 4),\n",
       " (348.67858167993404, 9, 7),\n",
       " (354.094607408319, 9, 8)]"
      ]
     },
     "execution_count": 23,
     "metadata": {},
     "output_type": "execute_result"
    }
   ],
   "source": [
    "cluster_distance.sort(key=lambda y: y[0])\n",
    "cluster_distance = cluster_distance[:5]\n",
    "print('Euclidian distance, Outlire, Other cluster')\n",
    "cluster_distance"
   ]
  },
  {
   "cell_type": "code",
   "execution_count": 24,
   "id": "78dbed18",
   "metadata": {},
   "outputs": [],
   "source": [
    "  def findCandidateClusters(k_nearest_cluster):\n",
    "    closestCluster = k_nearest_cluster[0][2]\n",
    "    closestDistance = k_nearest_cluster[0][0]\n",
    "    candidateCluster = []\n",
    "    rejectedCluster = []\n",
    "    dist = distance.euclidean(cluster_mediod[closestCluster],cluster_mediod[k_nearest_cluster[0][1]])\n",
    "#     print(dist)\n",
    "    candidateCluster.append(k_nearest_cluster[0])\n",
    "    for i in k_nearest_cluster:\n",
    "        if i in rejectedCluster:\n",
    "            print('rejected')\n",
    "            print(rejectedCluster)\n",
    "            continue\n",
    "        for j in k_nearest_cluster:\n",
    "            if j == i: continue\n",
    "            dist_btwn = distance.euclidean(cluster_mediod[i[2]],cluster_mediod[j[2]])\n",
    "            origin = cluster_mediod[i[2]] + (- cluster_mediod[i[2]])\n",
    "            translate_outlier = cluster_mediod[i[1]] + (- cluster_mediod[i[2]])\n",
    "            translate_cluster = cluster_mediod[j[2]] + (- cluster_mediod[i[2]])\n",
    "            cos_dist = distance.cosine(translate_outlier, translate_cluster)\n",
    "            print(dist_btwn)\n",
    "            print(cos_dist)\n",
    "            print(j)\n",
    "            print('')\n",
    "            if cos_dist < 1  :\n",
    "                if j in candidateCluster:\n",
    "                    continue\n",
    "                candidateCluster.append(j)\n",
    "            else:\n",
    "                if j not in rejectedCluster:\n",
    "                    rejectedCluster.append(j)\n",
    "                if j in candidateCluster:\n",
    "                    print(j)\n",
    "                    print('is included') \n",
    "                    candidateCluster.remove(j)   \n",
    "                    \n",
    "        for i in candidateCluster:\n",
    "            if i in rejectedCluster:\n",
    "                candidateCluster.remove(i)\n",
    "\n",
    "    return  candidateCluster   "
   ]
  },
  {
   "cell_type": "code",
   "execution_count": 25,
   "id": "ac03c2ef",
   "metadata": {},
   "outputs": [
    {
     "name": "stdout",
     "output_type": "stream",
     "text": [
      "215.9534108561413\n",
      "0.8835073912090206\n",
      "(317.5795534850043, 9, 6)\n",
      "\n",
      "149.95062193352882\n",
      "1.3979207286258095\n",
      "(347.4301654294664, 9, 4)\n",
      "\n",
      "215.71110631570255\n",
      "1.069482779513999\n",
      "(348.67858167993404, 9, 7)\n",
      "\n",
      "201.73361627199054\n",
      "1.1664276739353134\n",
      "(354.094607408319, 9, 8)\n",
      "\n",
      "215.9534108561413\n",
      "0.41514114878900754\n",
      "(259.36579453735584, 9, 0)\n",
      "\n",
      "264.8064076393751\n",
      "0.7011104660507845\n",
      "(347.4301654294664, 9, 4)\n",
      "\n",
      "265.334924059979\n",
      "0.7051998290101338\n",
      "(348.67858167993404, 9, 7)\n",
      "\n",
      "236.39678430116606\n",
      "0.7911600989669666\n",
      "(354.094607408319, 9, 8)\n",
      "\n",
      "rejected\n",
      "[(347.4301654294664, 9, 4), (348.67858167993404, 9, 7), (354.094607408319, 9, 8)]\n",
      "rejected\n",
      "[(347.4301654294664, 9, 4), (348.67858167993404, 9, 7), (354.094607408319, 9, 8)]\n",
      "rejected\n",
      "[(347.4301654294664, 9, 4), (348.67858167993404, 9, 7), (354.094607408319, 9, 8)]\n"
     ]
    },
    {
     "data": {
      "text/plain": [
       "[(259.36579453735584, 9, 0),\n",
       " (317.5795534850043, 9, 6),\n",
       " (348.67858167993404, 9, 7)]"
      ]
     },
     "execution_count": 25,
     "metadata": {},
     "output_type": "execute_result"
    }
   ],
   "source": [
    "neighborCluster = findCandidateClusters(cluster_distance)\n",
    "neighborCluster"
   ]
  },
  {
   "cell_type": "code",
   "execution_count": 26,
   "id": "a7135b3c",
   "metadata": {},
   "outputs": [
    {
     "name": "stdout",
     "output_type": "stream",
     "text": [
      "Euclidean distance, Outlier, Other cluster\n"
     ]
    },
    {
     "data": {
      "text/plain": [
       "[(259.36579453735584, 9, 0),\n",
       " (317.5795534850043, 9, 6),\n",
       " (348.67858167993404, 9, 7)]"
      ]
     },
     "execution_count": 26,
     "metadata": {},
     "output_type": "execute_result"
    }
   ],
   "source": [
    "print('Euclidean distance, Outlier, Other cluster')\n",
    "neighborCluster"
   ]
  },
  {
   "cell_type": "code",
   "execution_count": 27,
   "id": "8e8f4f4f",
   "metadata": {},
   "outputs": [],
   "source": [
    "import os\n",
    "from PIL import Image\n",
    "j = neighborCluster[0][1]\n",
    "os.makedirs(os.path.join(\"Cluster-images-mediod\",\"outlier-cluster-{}\".format(j)))\n",
    "for k in range(len(cluster_dict[j])):\n",
    "        l = cluster_dict[j][k]\n",
    "        image_list[l].save(r'Cluster-images-mediod/outlier-cluster-%d/%s' % (j,images_name[l]))\n",
    "\n",
    "for i in range(len(neighborCluster)):\n",
    "    j = neighborCluster[i][2]\n",
    "    os.makedirs(os.path.join(\"Cluster-images-mediod\",\"cluster-{}\".format(j)))\n",
    "\n",
    "    for k in range(len(cluster_dict[j])):\n",
    "        l = cluster_dict[j][k]\n",
    "        image_list[l].save(r'Cluster-images-mediod/cluster-%d/%s' % (j,images_name[l]))"
   ]
  },
  {
   "cell_type": "code",
   "execution_count": 28,
   "id": "6fb1518d",
   "metadata": {},
   "outputs": [],
   "source": [
    "  def findCandidateClusters(k_nearest_cluster):\n",
    "    closestCluster = k_nearest_cluster[0][2]\n",
    "    closestDistance = k_nearest_cluster[0][0]\n",
    "    candidateCluster = []\n",
    "    candidateCluster.append(k_nearest_cluster[0])\n",
    "    for j in k_nearest_cluster:\n",
    "        #if j == 0: continue\n",
    "        dist = distance.euclidean(cluster_mediod[closestCluster],cluster_mediod[j[2]])\n",
    "        cos_dist = distance.cosine(cluster_mediod[closestCluster],cluster_mediod[j[2]])\n",
    "        print(dist)\n",
    "        if cos_dist >= 1 :\n",
    "            candidateCluster.append(j)\n",
    "    return  candidateCluster   "
   ]
  },
  {
   "cell_type": "code",
   "execution_count": 29,
   "id": "72b12e5b",
   "metadata": {},
   "outputs": [
    {
     "name": "stdout",
     "output_type": "stream",
     "text": [
      "0.0\n",
      "215.9534108561413\n",
      "149.95062193352882\n",
      "215.71110631570255\n",
      "201.73361627199054\n"
     ]
    },
    {
     "data": {
      "text/plain": [
       "[(259.36579453735584, 9, 0)]"
      ]
     },
     "execution_count": 29,
     "metadata": {},
     "output_type": "execute_result"
    }
   ],
   "source": [
    "neighborCluster = findCandidateClusters(cluster_distance)\n",
    "neighborCluster"
   ]
  },
  {
   "cell_type": "code",
   "execution_count": 30,
   "id": "789368a9",
   "metadata": {},
   "outputs": [
    {
     "data": {
      "text/plain": [
       "(0, 6, 4, 7, 8)"
      ]
     },
     "execution_count": 30,
     "metadata": {},
     "output_type": "execute_result"
    }
   ],
   "source": [
    "k_nearest_cluster = list(zip(*cluster_distance[:5]))[2]\n",
    "k_nearest_cluster"
   ]
  },
  {
   "cell_type": "code",
   "execution_count": 31,
   "id": "a2a864ae",
   "metadata": {},
   "outputs": [],
   "source": [
    "def findNearestObjectOfClusters(k_nearest_cluster):\n",
    "    distance_all_cluster = []\n",
    "    nearestObjects = []\n",
    "    object_distance = []\n",
    "    for j in range(len(k_nearest_cluster)):\n",
    "        for i in range(len(cluster_dict[k_nearest_cluster[j]])):\n",
    "            object_distance.append((distance.euclidean(cluster_mediod[outlier_cluster[0]], X.iloc[cluster_dict[k_nearest_cluster[j]][i]]),outlier_cluster[0], k_nearest_cluster[j],  cluster_dict[k_nearest_cluster[j]][i]))\n",
    "        #distance_all_cluster.append(object_distance)\n",
    "        nearestObjects.append(min(object_distance, key=lambda tup: tup[0]))\n",
    "        object_distance = []\n",
    "    return  nearestObjects   "
   ]
  },
  {
   "cell_type": "code",
   "execution_count": 32,
   "id": "7ca570a5",
   "metadata": {},
   "outputs": [
    {
     "ename": "TypeError",
     "evalue": "'int' object is not subscriptable",
     "output_type": "error",
     "traceback": [
      "\u001b[0;31m---------------------------------------------------------------------------\u001b[0m",
      "\u001b[0;31mTypeError\u001b[0m                                 Traceback (most recent call last)",
      "\u001b[0;32m/tmp/ipykernel_13098/2506495295.py\u001b[0m in \u001b[0;36m<module>\u001b[0;34m\u001b[0m\n\u001b[0;32m----> 1\u001b[0;31m \u001b[0mnearestObjects\u001b[0m \u001b[0;34m=\u001b[0m \u001b[0mfindNearestObjectOfClusters\u001b[0m\u001b[0;34m(\u001b[0m\u001b[0mk_nearest_cluster\u001b[0m\u001b[0;34m)\u001b[0m\u001b[0;34m\u001b[0m\u001b[0;34m\u001b[0m\u001b[0m\n\u001b[0m\u001b[1;32m      2\u001b[0m \u001b[0mnearestObjects\u001b[0m\u001b[0;34m.\u001b[0m\u001b[0msort\u001b[0m\u001b[0;34m(\u001b[0m\u001b[0mkey\u001b[0m\u001b[0;34m=\u001b[0m\u001b[0;32mlambda\u001b[0m \u001b[0my\u001b[0m\u001b[0;34m:\u001b[0m \u001b[0my\u001b[0m\u001b[0;34m[\u001b[0m\u001b[0;36m0\u001b[0m\u001b[0;34m]\u001b[0m\u001b[0;34m)\u001b[0m\u001b[0;34m\u001b[0m\u001b[0;34m\u001b[0m\u001b[0m\n\u001b[1;32m      3\u001b[0m \u001b[0mnearestObjects\u001b[0m\u001b[0;34m\u001b[0m\u001b[0;34m\u001b[0m\u001b[0m\n",
      "\u001b[0;32m/tmp/ipykernel_13098/3447479542.py\u001b[0m in \u001b[0;36mfindNearestObjectOfClusters\u001b[0;34m(k_nearest_cluster)\u001b[0m\n\u001b[1;32m      5\u001b[0m     \u001b[0;32mfor\u001b[0m \u001b[0mj\u001b[0m \u001b[0;32min\u001b[0m \u001b[0mrange\u001b[0m\u001b[0;34m(\u001b[0m\u001b[0mlen\u001b[0m\u001b[0;34m(\u001b[0m\u001b[0mk_nearest_cluster\u001b[0m\u001b[0;34m)\u001b[0m\u001b[0;34m)\u001b[0m\u001b[0;34m:\u001b[0m\u001b[0;34m\u001b[0m\u001b[0;34m\u001b[0m\u001b[0m\n\u001b[1;32m      6\u001b[0m         \u001b[0;32mfor\u001b[0m \u001b[0mi\u001b[0m \u001b[0;32min\u001b[0m \u001b[0mrange\u001b[0m\u001b[0;34m(\u001b[0m\u001b[0mlen\u001b[0m\u001b[0;34m(\u001b[0m\u001b[0mcluster_dict\u001b[0m\u001b[0;34m[\u001b[0m\u001b[0mk_nearest_cluster\u001b[0m\u001b[0;34m[\u001b[0m\u001b[0mj\u001b[0m\u001b[0;34m]\u001b[0m\u001b[0;34m]\u001b[0m\u001b[0;34m)\u001b[0m\u001b[0;34m)\u001b[0m\u001b[0;34m:\u001b[0m\u001b[0;34m\u001b[0m\u001b[0;34m\u001b[0m\u001b[0m\n\u001b[0;32m----> 7\u001b[0;31m             \u001b[0mobject_distance\u001b[0m\u001b[0;34m.\u001b[0m\u001b[0mappend\u001b[0m\u001b[0;34m(\u001b[0m\u001b[0;34m(\u001b[0m\u001b[0mdistance\u001b[0m\u001b[0;34m.\u001b[0m\u001b[0meuclidean\u001b[0m\u001b[0;34m(\u001b[0m\u001b[0mcluster_mediod\u001b[0m\u001b[0;34m[\u001b[0m\u001b[0moutlier_cluster\u001b[0m\u001b[0;34m[\u001b[0m\u001b[0;36m0\u001b[0m\u001b[0;34m]\u001b[0m\u001b[0;34m]\u001b[0m\u001b[0;34m,\u001b[0m \u001b[0mX\u001b[0m\u001b[0;34m.\u001b[0m\u001b[0miloc\u001b[0m\u001b[0;34m[\u001b[0m\u001b[0mcluster_dict\u001b[0m\u001b[0;34m[\u001b[0m\u001b[0mk_nearest_cluster\u001b[0m\u001b[0;34m[\u001b[0m\u001b[0mj\u001b[0m\u001b[0;34m]\u001b[0m\u001b[0;34m]\u001b[0m\u001b[0;34m[\u001b[0m\u001b[0mi\u001b[0m\u001b[0;34m]\u001b[0m\u001b[0;34m]\u001b[0m\u001b[0;34m)\u001b[0m\u001b[0;34m,\u001b[0m\u001b[0moutlier_cluster\u001b[0m\u001b[0;34m[\u001b[0m\u001b[0;36m0\u001b[0m\u001b[0;34m]\u001b[0m\u001b[0;34m,\u001b[0m \u001b[0mk_nearest_cluster\u001b[0m\u001b[0;34m[\u001b[0m\u001b[0mj\u001b[0m\u001b[0;34m]\u001b[0m\u001b[0;34m,\u001b[0m  \u001b[0mcluster_dict\u001b[0m\u001b[0;34m[\u001b[0m\u001b[0mk_nearest_cluster\u001b[0m\u001b[0;34m[\u001b[0m\u001b[0mj\u001b[0m\u001b[0;34m]\u001b[0m\u001b[0;34m]\u001b[0m\u001b[0;34m[\u001b[0m\u001b[0mi\u001b[0m\u001b[0;34m]\u001b[0m\u001b[0;34m)\u001b[0m\u001b[0;34m)\u001b[0m\u001b[0;34m\u001b[0m\u001b[0;34m\u001b[0m\u001b[0m\n\u001b[0m\u001b[1;32m      8\u001b[0m         \u001b[0;31m#distance_all_cluster.append(object_distance)\u001b[0m\u001b[0;34m\u001b[0m\u001b[0;34m\u001b[0m\u001b[0m\n\u001b[1;32m      9\u001b[0m         \u001b[0mnearestObjects\u001b[0m\u001b[0;34m.\u001b[0m\u001b[0mappend\u001b[0m\u001b[0;34m(\u001b[0m\u001b[0mmin\u001b[0m\u001b[0;34m(\u001b[0m\u001b[0mobject_distance\u001b[0m\u001b[0;34m,\u001b[0m \u001b[0mkey\u001b[0m\u001b[0;34m=\u001b[0m\u001b[0;32mlambda\u001b[0m \u001b[0mtup\u001b[0m\u001b[0;34m:\u001b[0m \u001b[0mtup\u001b[0m\u001b[0;34m[\u001b[0m\u001b[0;36m0\u001b[0m\u001b[0;34m]\u001b[0m\u001b[0;34m)\u001b[0m\u001b[0;34m)\u001b[0m\u001b[0;34m\u001b[0m\u001b[0;34m\u001b[0m\u001b[0m\n",
      "\u001b[0;31mTypeError\u001b[0m: 'int' object is not subscriptable"
     ]
    }
   ],
   "source": [
    "nearestObjects = findNearestObjectOfClusters(k_nearest_cluster)\n",
    "nearestObjects.sort(key=lambda y: y[0])\n",
    "nearestObjects"
   ]
  },
  {
   "cell_type": "code",
   "execution_count": null,
   "id": "874987cb",
   "metadata": {},
   "outputs": [],
   "source": [
    "from scipy.spatial import distance\n",
    "for i in range(100):\n",
    "    for j in range(100):\n",
    "        print(distance.cosine(X[i], X[j]))\n",
    "    print('new loop')    "
   ]
  },
  {
   "cell_type": "code",
   "execution_count": null,
   "id": "34f027a1",
   "metadata": {},
   "outputs": [],
   "source": [
    "def findCandidateObjectOfClusters(k_nearest_objects):\n",
    "    closestObject = k_nearest_objects[0][3]\n",
    "    closestDistance = k_nearest_objects[0][0]\n",
    "    candidateObjects = []\n",
    "    candidateObjects.append(k_nearest_objects[0])\n",
    "    for j in range(len(k_nearest_objects)):\n",
    "        #if j == 0: continue\n",
    "        dist = distance.euclidean(X.iloc[closestObject], X.iloc[k_nearest_objects[j][3]])\n",
    "        cos_dist = distance.cosine(X.iloc[closestObject], X.iloc[k_nearest_objects[j][3]])\n",
    "        print(dist)\n",
    "        if cos_dist >= .6 and dist  >=  closestDistance*.8 :\n",
    "            candidateObjects.append(k_nearest_objects[j])\n",
    "    return  candidateObjects   "
   ]
  },
  {
   "cell_type": "code",
   "execution_count": null,
   "id": "e322c623",
   "metadata": {},
   "outputs": [],
   "source": [
    "neighborObjects = findCandidateObjectOfClusters(nearestObjects)\n",
    "neighborObjects"
   ]
  },
  {
   "cell_type": "code",
   "execution_count": null,
   "id": "0373bba6",
   "metadata": {},
   "outputs": [],
   "source": []
  },
  {
   "cell_type": "code",
   "execution_count": null,
   "id": "66ddd7d3",
   "metadata": {},
   "outputs": [],
   "source": []
  }
 ],
 "metadata": {
  "kernelspec": {
   "display_name": "Python 3 (ipykernel)",
   "language": "python",
   "name": "python3"
  },
  "language_info": {
   "codemirror_mode": {
    "name": "ipython",
    "version": 3
   },
   "file_extension": ".py",
   "mimetype": "text/x-python",
   "name": "python",
   "nbconvert_exporter": "python",
   "pygments_lexer": "ipython3",
   "version": "3.10.7"
  }
 },
 "nbformat": 4,
 "nbformat_minor": 5
}
